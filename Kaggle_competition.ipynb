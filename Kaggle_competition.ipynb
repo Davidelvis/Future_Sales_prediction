{
  "nbformat": 4,
  "nbformat_minor": 0,
  "metadata": {
    "colab": {
      "name": "Kaggle_competition.ipynb",
      "provenance": []
    },
    "kernelspec": {
      "name": "python3",
      "display_name": "Python 3"
    }
  },
  "cells": [
    {
      "cell_type": "code",
      "metadata": {
        "id": "aZ2eoHXnt87M",
        "colab_type": "code",
        "colab": {}
      },
      "source": [
        "#importing the libraries that will be needed in the program. A library is essentially a collection of modules that can be called and used.\n",
        "import warnings\n",
        "warnings.filterwarnings(\"ignore\")\n",
        "import numpy as np\n",
        "import pandas as pd\n",
        "!pip install catboost\n",
        "import catboost\n",
        "from catboost import Pool\n",
        "from catboost import CatBoostRegressor\n",
        "from xgboost import XGBRegressor\n",
        "from xgboost import plot_importance\n",
        "from sklearn.metrics import mean_squared_error\n",
        "from sklearn.linear_model import LinearRegression\n",
        "from sklearn.neighbors import KNeighborsRegressor\n",
        "from sklearn.ensemble import RandomForestRegressor\n",
        "from sklearn.preprocessing import StandardScaler, MinMaxScaler\n",
        "from scipy import stats\n",
        "import datetime \n",
        "import plotly.express as px\n",
        "from tabulate import tabulate\n",
        "import seaborn as sns\n",
        "sns.set()\n",
        "import matplotlib.pyplot as plt\n",
        "%matplotlib inline\n",
        "from sklearn import preprocessing\n",
        "import plotly.graph_objects as go"
      ],
      "execution_count": null,
      "outputs": []
    },
    {
      "cell_type": "code",
      "metadata": {
        "id": "Jxs7qU3kzpzs",
        "colab_type": "code",
        "colab": {}
      },
      "source": [
        "test_data=pd.read_csv('/content/drive/My Drive/Kaggle Data/test.csv')\n",
        "shop_data=pd.read_csv('/content/drive/My Drive/Kaggle Data/shops.csv')\n",
        "sales_train=pd.read_csv('/content/drive/My Drive/Kaggle Data/sales_train.csv')\n",
        "items_data=pd.read_csv('/content/drive/My Drive/Kaggle Data/items.csv')\n",
        "items_cat=pd.read_csv('/content/drive/My Drive/Kaggle Data/item_categories.csv')"
      ],
      "execution_count": null,
      "outputs": []
    },
    {
      "cell_type": "code",
      "metadata": {
        "id": "NiISpXtZlgu_",
        "colab_type": "code",
        "colab": {}
      },
      "source": [
        ""
      ],
      "execution_count": null,
      "outputs": []
    },
    {
      "cell_type": "code",
      "metadata": {
        "id": "0Z9TR1ZGjUTO",
        "colab_type": "code",
        "colab": {}
      },
      "source": [
        "test = pd.read_csv('/content/drive/My Drive/Kaggle Data/test.csv', dtype={'ID': 'int32', 'shop_id': 'int32', \n",
        "                                                  'item_id': 'int32'})\n",
        "item_categories = pd.read_csv('/content/drive/My Drive/Kaggle Data/item_categories.csv', \n",
        "                              dtype={'item_category_name': 'str', 'item_category_id': 'int32'})\n",
        "items = pd.read_csv('/content/drive/My Drive/Kaggle Data/items.csv', dtype={'item_name': 'str', 'item_id': 'int32', \n",
        "                                                 'item_category_id': 'int32'})\n",
        "shops = pd.read_csv('/content/drive/My Drive/Kaggle Data/shops.csv', dtype={'shop_name': 'str', 'shop_id': 'int32'})\n",
        "sales = pd.read_csv('/content/drive/My Drive/Kaggle Data/sales_train.csv', parse_dates=['date'], \n",
        "                    dtype={'date': 'str', 'date_block_num': 'int32', 'shop_id': 'int32', \n",
        "                          'item_id': 'int32', 'item_price': 'float32', 'item_cnt_day': 'int32'})"
      ],
      "execution_count": null,
      "outputs": []
    },
    {
      "cell_type": "code",
      "metadata": {
        "id": "nGY56oKbkUpa",
        "colab_type": "code",
        "colab": {}
      },
      "source": [
        "train = sales.join(items, on='item_id', rsuffix='_').join(shops, on='shop_id', rsuffix='_').join(item_categories, on='item_category_id', rsuffix='_').drop(['item_id_', 'shop_id_', 'item_category_id_'], axis=1)"
      ],
      "execution_count": null,
      "outputs": []
    },
    {
      "cell_type": "code",
      "metadata": {
        "id": "zdoyXZ4dlLsR",
        "colab_type": "code",
        "colab": {
          "base_uri": "https://localhost:8080/",
          "height": 405
        },
        "outputId": "f6a09c79-448e-4337-9699-907f2f5bb52d"
      },
      "source": [
        "train"
      ],
      "execution_count": null,
      "outputs": [
        {
          "output_type": "execute_result",
          "data": {
            "text/html": [
              "<div>\n",
              "<style scoped>\n",
              "    .dataframe tbody tr th:only-of-type {\n",
              "        vertical-align: middle;\n",
              "    }\n",
              "\n",
              "    .dataframe tbody tr th {\n",
              "        vertical-align: top;\n",
              "    }\n",
              "\n",
              "    .dataframe thead th {\n",
              "        text-align: right;\n",
              "    }\n",
              "</style>\n",
              "<table border=\"1\" class=\"dataframe\">\n",
              "  <thead>\n",
              "    <tr style=\"text-align: right;\">\n",
              "      <th></th>\n",
              "      <th>date</th>\n",
              "      <th>date_block_num</th>\n",
              "      <th>shop_id</th>\n",
              "      <th>item_id</th>\n",
              "      <th>item_price</th>\n",
              "      <th>item_cnt_day</th>\n",
              "      <th>item_name</th>\n",
              "      <th>item_category_id</th>\n",
              "      <th>shop_name</th>\n",
              "      <th>item_category_name</th>\n",
              "    </tr>\n",
              "  </thead>\n",
              "  <tbody>\n",
              "    <tr>\n",
              "      <th>0</th>\n",
              "      <td>2013-02-01</td>\n",
              "      <td>0</td>\n",
              "      <td>59</td>\n",
              "      <td>22154</td>\n",
              "      <td>999.000000</td>\n",
              "      <td>1</td>\n",
              "      <td>ЯВЛЕНИЕ 2012 (BD)</td>\n",
              "      <td>37</td>\n",
              "      <td>Ярославль ТЦ \"Альтаир\"</td>\n",
              "      <td>Кино - Blu-Ray</td>\n",
              "    </tr>\n",
              "    <tr>\n",
              "      <th>1</th>\n",
              "      <td>2013-03-01</td>\n",
              "      <td>0</td>\n",
              "      <td>25</td>\n",
              "      <td>2552</td>\n",
              "      <td>899.000000</td>\n",
              "      <td>1</td>\n",
              "      <td>DEEP PURPLE  The House Of Blue Light  LP</td>\n",
              "      <td>58</td>\n",
              "      <td>Москва ТРК \"Атриум\"</td>\n",
              "      <td>Музыка - Винил</td>\n",
              "    </tr>\n",
              "    <tr>\n",
              "      <th>2</th>\n",
              "      <td>2013-05-01</td>\n",
              "      <td>0</td>\n",
              "      <td>25</td>\n",
              "      <td>2552</td>\n",
              "      <td>899.000000</td>\n",
              "      <td>-1</td>\n",
              "      <td>DEEP PURPLE  The House Of Blue Light  LP</td>\n",
              "      <td>58</td>\n",
              "      <td>Москва ТРК \"Атриум\"</td>\n",
              "      <td>Музыка - Винил</td>\n",
              "    </tr>\n",
              "    <tr>\n",
              "      <th>3</th>\n",
              "      <td>2013-06-01</td>\n",
              "      <td>0</td>\n",
              "      <td>25</td>\n",
              "      <td>2554</td>\n",
              "      <td>1709.050049</td>\n",
              "      <td>1</td>\n",
              "      <td>DEEP PURPLE  Who Do You Think We Are  LP</td>\n",
              "      <td>58</td>\n",
              "      <td>Москва ТРК \"Атриум\"</td>\n",
              "      <td>Музыка - Винил</td>\n",
              "    </tr>\n",
              "    <tr>\n",
              "      <th>4</th>\n",
              "      <td>2013-01-15</td>\n",
              "      <td>0</td>\n",
              "      <td>25</td>\n",
              "      <td>2555</td>\n",
              "      <td>1099.000000</td>\n",
              "      <td>1</td>\n",
              "      <td>DEEP PURPLE 30 Very Best Of 2CD (Фирм.)</td>\n",
              "      <td>56</td>\n",
              "      <td>Москва ТРК \"Атриум\"</td>\n",
              "      <td>Музыка - CD фирменного производства</td>\n",
              "    </tr>\n",
              "    <tr>\n",
              "      <th>...</th>\n",
              "      <td>...</td>\n",
              "      <td>...</td>\n",
              "      <td>...</td>\n",
              "      <td>...</td>\n",
              "      <td>...</td>\n",
              "      <td>...</td>\n",
              "      <td>...</td>\n",
              "      <td>...</td>\n",
              "      <td>...</td>\n",
              "      <td>...</td>\n",
              "    </tr>\n",
              "    <tr>\n",
              "      <th>2935844</th>\n",
              "      <td>2015-10-10</td>\n",
              "      <td>33</td>\n",
              "      <td>25</td>\n",
              "      <td>7409</td>\n",
              "      <td>299.000000</td>\n",
              "      <td>1</td>\n",
              "      <td>V/A Nu Jazz Selection (digipack)</td>\n",
              "      <td>55</td>\n",
              "      <td>Москва ТРК \"Атриум\"</td>\n",
              "      <td>Музыка - CD локального производства</td>\n",
              "    </tr>\n",
              "    <tr>\n",
              "      <th>2935845</th>\n",
              "      <td>2015-09-10</td>\n",
              "      <td>33</td>\n",
              "      <td>25</td>\n",
              "      <td>7460</td>\n",
              "      <td>299.000000</td>\n",
              "      <td>1</td>\n",
              "      <td>V/A The Golden Jazz Collection  1  2CD</td>\n",
              "      <td>55</td>\n",
              "      <td>Москва ТРК \"Атриум\"</td>\n",
              "      <td>Музыка - CD локального производства</td>\n",
              "    </tr>\n",
              "    <tr>\n",
              "      <th>2935846</th>\n",
              "      <td>2015-10-14</td>\n",
              "      <td>33</td>\n",
              "      <td>25</td>\n",
              "      <td>7459</td>\n",
              "      <td>349.000000</td>\n",
              "      <td>1</td>\n",
              "      <td>V/A The Best Of The 3 Tenors</td>\n",
              "      <td>55</td>\n",
              "      <td>Москва ТРК \"Атриум\"</td>\n",
              "      <td>Музыка - CD локального производства</td>\n",
              "    </tr>\n",
              "    <tr>\n",
              "      <th>2935847</th>\n",
              "      <td>2015-10-22</td>\n",
              "      <td>33</td>\n",
              "      <td>25</td>\n",
              "      <td>7440</td>\n",
              "      <td>299.000000</td>\n",
              "      <td>1</td>\n",
              "      <td>V/A Relax Collection  Planet MP3 (mp3-CD) (jewel)</td>\n",
              "      <td>57</td>\n",
              "      <td>Москва ТРК \"Атриум\"</td>\n",
              "      <td>Музыка - MP3</td>\n",
              "    </tr>\n",
              "    <tr>\n",
              "      <th>2935848</th>\n",
              "      <td>2015-03-10</td>\n",
              "      <td>33</td>\n",
              "      <td>25</td>\n",
              "      <td>7460</td>\n",
              "      <td>299.000000</td>\n",
              "      <td>1</td>\n",
              "      <td>V/A The Golden Jazz Collection  1  2CD</td>\n",
              "      <td>55</td>\n",
              "      <td>Москва ТРК \"Атриум\"</td>\n",
              "      <td>Музыка - CD локального производства</td>\n",
              "    </tr>\n",
              "  </tbody>\n",
              "</table>\n",
              "<p>2935849 rows × 10 columns</p>\n",
              "</div>"
            ],
            "text/plain": [
              "              date  ...                   item_category_name\n",
              "0       2013-02-01  ...                       Кино - Blu-Ray\n",
              "1       2013-03-01  ...                       Музыка - Винил\n",
              "2       2013-05-01  ...                       Музыка - Винил\n",
              "3       2013-06-01  ...                       Музыка - Винил\n",
              "4       2013-01-15  ...  Музыка - CD фирменного производства\n",
              "...            ...  ...                                  ...\n",
              "2935844 2015-10-10  ...  Музыка - CD локального производства\n",
              "2935845 2015-09-10  ...  Музыка - CD локального производства\n",
              "2935846 2015-10-14  ...  Музыка - CD локального производства\n",
              "2935847 2015-10-22  ...                         Музыка - MP3\n",
              "2935848 2015-03-10  ...  Музыка - CD локального производства\n",
              "\n",
              "[2935849 rows x 10 columns]"
            ]
          },
          "metadata": {
            "tags": []
          },
          "execution_count": 5
        }
      ]
    },
    {
      "cell_type": "code",
      "metadata": {
        "id": "bmjhBv6ZlN2k",
        "colab_type": "code",
        "colab": {
          "base_uri": "https://localhost:8080/",
          "height": 51
        },
        "outputId": "31e9c9e2-f74f-4aac-c90d-dc16850715ca"
      },
      "source": [
        "print('Min date from train set: %s' % train['date'].min().date())\n",
        "print('Max date from train set: %s' % train['date'].max().date())"
      ],
      "execution_count": null,
      "outputs": [
        {
          "output_type": "stream",
          "text": [
            "Min date from train set: 2013-01-01\n",
            "Max date from train set: 2015-12-10\n"
          ],
          "name": "stdout"
        }
      ]
    },
    {
      "cell_type": "code",
      "metadata": {
        "id": "79fG4d41nJkd",
        "colab_type": "code",
        "colab": {}
      },
      "source": [
        "test_shop_ids = test['shop_id'].unique()\n",
        "test_item_ids = test['item_id'].unique()\n",
        "# Only shops that exist in test set.\n",
        "lk_train = train[train['shop_id'].isin(test_shop_ids)]\n",
        "# Only items that exist in test set.\n",
        "lk_train = lk_train[lk_train['item_id'].isin(test_item_ids)]"
      ],
      "execution_count": null,
      "outputs": []
    },
    {
      "cell_type": "code",
      "metadata": {
        "id": "9TodGGAhnc71",
        "colab_type": "code",
        "colab": {
          "base_uri": "https://localhost:8080/",
          "height": 51
        },
        "outputId": "157a671d-1bcf-4a8b-ab99-e2505a15ba01"
      },
      "source": [
        "print('Data set size before leaking:', train.shape[0])\n",
        "print('Data set size after leaking:', lk_train.shape[0])"
      ],
      "execution_count": null,
      "outputs": [
        {
          "output_type": "stream",
          "text": [
            "Data set size before leaking: 2935849\n",
            "Data set size after leaking: 1224439\n"
          ],
          "name": "stdout"
        }
      ]
    },
    {
      "cell_type": "code",
      "metadata": {
        "id": "SjNLoi8FnfcF",
        "colab_type": "code",
        "colab": {}
      },
      "source": [
        "train = train.query('item_price > 0')"
      ],
      "execution_count": null,
      "outputs": []
    },
    {
      "cell_type": "code",
      "metadata": {
        "id": "O8jbrUTXn018",
        "colab_type": "code",
        "colab": {}
      },
      "source": [
        "# Select only useful features.\n",
        "train_monthly = lk_train[['date', 'date_block_num', 'shop_id', 'item_category_id', 'item_id', 'item_price', 'item_cnt_day']]"
      ],
      "execution_count": null,
      "outputs": []
    },
    {
      "cell_type": "code",
      "metadata": {
        "id": "Da0r-d-ro-JR",
        "colab_type": "code",
        "colab": {}
      },
      "source": [
        "# Group by month in this case \"date_block_num\" and aggregate features.\n",
        "train_monthly = train_monthly.sort_values('date').groupby(['date_block_num', 'shop_id', 'item_category_id', 'item_id'], as_index=False)\n",
        "train_monthly = train_monthly.agg({'item_price':['sum', 'mean'], 'item_cnt_day':['sum', 'mean','count']})\n",
        "# Rename features.\n",
        "train_monthly.columns = ['date_block_num', 'shop_id', 'item_category_id', 'item_id', 'item_price', 'mean_item_price', 'item_cnt', 'mean_item_cnt', 'transactions']"
      ],
      "execution_count": null,
      "outputs": []
    },
    {
      "cell_type": "code",
      "metadata": {
        "id": "2nr0iNzopId-",
        "colab_type": "code",
        "colab": {
          "base_uri": "https://localhost:8080/",
          "height": 405
        },
        "outputId": "9f590903-258b-4983-9c1d-5b3d4d86ea70"
      },
      "source": [
        "train_monthly"
      ],
      "execution_count": null,
      "outputs": [
        {
          "output_type": "execute_result",
          "data": {
            "text/html": [
              "<div>\n",
              "<style scoped>\n",
              "    .dataframe tbody tr th:only-of-type {\n",
              "        vertical-align: middle;\n",
              "    }\n",
              "\n",
              "    .dataframe tbody tr th {\n",
              "        vertical-align: top;\n",
              "    }\n",
              "\n",
              "    .dataframe thead th {\n",
              "        text-align: right;\n",
              "    }\n",
              "</style>\n",
              "<table border=\"1\" class=\"dataframe\">\n",
              "  <thead>\n",
              "    <tr style=\"text-align: right;\">\n",
              "      <th></th>\n",
              "      <th>date_block_num</th>\n",
              "      <th>shop_id</th>\n",
              "      <th>item_category_id</th>\n",
              "      <th>item_id</th>\n",
              "      <th>item_price</th>\n",
              "      <th>mean_item_price</th>\n",
              "      <th>item_cnt</th>\n",
              "      <th>mean_item_cnt</th>\n",
              "      <th>transactions</th>\n",
              "    </tr>\n",
              "  </thead>\n",
              "  <tbody>\n",
              "    <tr>\n",
              "      <th>0</th>\n",
              "      <td>0</td>\n",
              "      <td>2</td>\n",
              "      <td>2</td>\n",
              "      <td>5572</td>\n",
              "      <td>10730.000000</td>\n",
              "      <td>1532.857178</td>\n",
              "      <td>9</td>\n",
              "      <td>1.285714</td>\n",
              "      <td>7</td>\n",
              "    </tr>\n",
              "    <tr>\n",
              "      <th>1</th>\n",
              "      <td>0</td>\n",
              "      <td>2</td>\n",
              "      <td>2</td>\n",
              "      <td>5643</td>\n",
              "      <td>4775.209961</td>\n",
              "      <td>2387.604980</td>\n",
              "      <td>0</td>\n",
              "      <td>0.000000</td>\n",
              "      <td>2</td>\n",
              "    </tr>\n",
              "    <tr>\n",
              "      <th>2</th>\n",
              "      <td>0</td>\n",
              "      <td>2</td>\n",
              "      <td>5</td>\n",
              "      <td>5583</td>\n",
              "      <td>1188.300049</td>\n",
              "      <td>594.150024</td>\n",
              "      <td>2</td>\n",
              "      <td>1.000000</td>\n",
              "      <td>2</td>\n",
              "    </tr>\n",
              "    <tr>\n",
              "      <th>3</th>\n",
              "      <td>0</td>\n",
              "      <td>2</td>\n",
              "      <td>6</td>\n",
              "      <td>7893</td>\n",
              "      <td>5970.000000</td>\n",
              "      <td>1990.000000</td>\n",
              "      <td>3</td>\n",
              "      <td>1.000000</td>\n",
              "      <td>3</td>\n",
              "    </tr>\n",
              "    <tr>\n",
              "      <th>4</th>\n",
              "      <td>0</td>\n",
              "      <td>2</td>\n",
              "      <td>6</td>\n",
              "      <td>7894</td>\n",
              "      <td>1490.000000</td>\n",
              "      <td>1490.000000</td>\n",
              "      <td>1</td>\n",
              "      <td>1.000000</td>\n",
              "      <td>1</td>\n",
              "    </tr>\n",
              "    <tr>\n",
              "      <th>...</th>\n",
              "      <td>...</td>\n",
              "      <td>...</td>\n",
              "      <td>...</td>\n",
              "      <td>...</td>\n",
              "      <td>...</td>\n",
              "      <td>...</td>\n",
              "      <td>...</td>\n",
              "      <td>...</td>\n",
              "      <td>...</td>\n",
              "    </tr>\n",
              "    <tr>\n",
              "      <th>600154</th>\n",
              "      <td>33</td>\n",
              "      <td>59</td>\n",
              "      <td>75</td>\n",
              "      <td>5383</td>\n",
              "      <td>4390.000000</td>\n",
              "      <td>4390.000000</td>\n",
              "      <td>1</td>\n",
              "      <td>1.000000</td>\n",
              "      <td>1</td>\n",
              "    </tr>\n",
              "    <tr>\n",
              "      <th>600155</th>\n",
              "      <td>33</td>\n",
              "      <td>59</td>\n",
              "      <td>79</td>\n",
              "      <td>17717</td>\n",
              "      <td>8025.500000</td>\n",
              "      <td>802.549988</td>\n",
              "      <td>13</td>\n",
              "      <td>1.300000</td>\n",
              "      <td>10</td>\n",
              "    </tr>\n",
              "    <tr>\n",
              "      <th>600156</th>\n",
              "      <td>33</td>\n",
              "      <td>59</td>\n",
              "      <td>83</td>\n",
              "      <td>22087</td>\n",
              "      <td>357.000000</td>\n",
              "      <td>119.000000</td>\n",
              "      <td>6</td>\n",
              "      <td>2.000000</td>\n",
              "      <td>3</td>\n",
              "    </tr>\n",
              "    <tr>\n",
              "      <th>600157</th>\n",
              "      <td>33</td>\n",
              "      <td>59</td>\n",
              "      <td>83</td>\n",
              "      <td>22088</td>\n",
              "      <td>238.000000</td>\n",
              "      <td>119.000000</td>\n",
              "      <td>2</td>\n",
              "      <td>1.000000</td>\n",
              "      <td>2</td>\n",
              "    </tr>\n",
              "    <tr>\n",
              "      <th>600158</th>\n",
              "      <td>33</td>\n",
              "      <td>59</td>\n",
              "      <td>83</td>\n",
              "      <td>22091</td>\n",
              "      <td>179.000000</td>\n",
              "      <td>179.000000</td>\n",
              "      <td>1</td>\n",
              "      <td>1.000000</td>\n",
              "      <td>1</td>\n",
              "    </tr>\n",
              "  </tbody>\n",
              "</table>\n",
              "<p>600159 rows × 9 columns</p>\n",
              "</div>"
            ],
            "text/plain": [
              "        date_block_num  shop_id  ...  mean_item_cnt  transactions\n",
              "0                    0        2  ...       1.285714             7\n",
              "1                    0        2  ...       0.000000             2\n",
              "2                    0        2  ...       1.000000             2\n",
              "3                    0        2  ...       1.000000             3\n",
              "4                    0        2  ...       1.000000             1\n",
              "...                ...      ...  ...            ...           ...\n",
              "600154              33       59  ...       1.000000             1\n",
              "600155              33       59  ...       1.300000            10\n",
              "600156              33       59  ...       2.000000             3\n",
              "600157              33       59  ...       1.000000             2\n",
              "600158              33       59  ...       1.000000             1\n",
              "\n",
              "[600159 rows x 9 columns]"
            ]
          },
          "metadata": {
            "tags": []
          },
          "execution_count": 12
        }
      ]
    },
    {
      "cell_type": "code",
      "metadata": {
        "id": "MO16ABafpK6c",
        "colab_type": "code",
        "colab": {}
      },
      "source": [
        "# Build a data set with all the possible combinations of ['date_block_num','shop_id','item_id'] so we won't have missing records.\n",
        "shop_ids = train_monthly['shop_id'].unique()\n",
        "item_ids = train_monthly['item_id'].unique()\n",
        "empty_df = []\n",
        "for i in range(34):\n",
        "    for shop in shop_ids:\n",
        "        for item in item_ids:\n",
        "            empty_df.append([i, shop, item])\n",
        "    \n",
        "empty_df = pd.DataFrame(empty_df, columns=['date_block_num','shop_id','item_id'])"
      ],
      "execution_count": null,
      "outputs": []
    },
    {
      "cell_type": "code",
      "metadata": {
        "id": "ZeF27eCopigW",
        "colab_type": "code",
        "colab": {}
      },
      "source": [
        "# Merge the train set with the complete set (missing records will be filled with 0).\n",
        "train_monthly = pd.merge(empty_df, train_monthly, on=['date_block_num','shop_id','item_id'], how='left')\n",
        "train_monthly.fillna(0, inplace=True)"
      ],
      "execution_count": null,
      "outputs": []
    },
    {
      "cell_type": "code",
      "metadata": {
        "id": "ZDMre8kRpqz3",
        "colab_type": "code",
        "colab": {
          "base_uri": "https://localhost:8080/",
          "height": 405
        },
        "outputId": "3681f3b1-99bd-49c1-ec2e-e336a4bc6aab"
      },
      "source": [
        "train_monthly"
      ],
      "execution_count": null,
      "outputs": [
        {
          "output_type": "execute_result",
          "data": {
            "text/html": [
              "<div>\n",
              "<style scoped>\n",
              "    .dataframe tbody tr th:only-of-type {\n",
              "        vertical-align: middle;\n",
              "    }\n",
              "\n",
              "    .dataframe tbody tr th {\n",
              "        vertical-align: top;\n",
              "    }\n",
              "\n",
              "    .dataframe thead th {\n",
              "        text-align: right;\n",
              "    }\n",
              "</style>\n",
              "<table border=\"1\" class=\"dataframe\">\n",
              "  <thead>\n",
              "    <tr style=\"text-align: right;\">\n",
              "      <th></th>\n",
              "      <th>date_block_num</th>\n",
              "      <th>shop_id</th>\n",
              "      <th>item_id</th>\n",
              "      <th>item_category_id</th>\n",
              "      <th>item_price</th>\n",
              "      <th>mean_item_price</th>\n",
              "      <th>item_cnt</th>\n",
              "      <th>mean_item_cnt</th>\n",
              "      <th>transactions</th>\n",
              "    </tr>\n",
              "  </thead>\n",
              "  <tbody>\n",
              "    <tr>\n",
              "      <th>0</th>\n",
              "      <td>0</td>\n",
              "      <td>2</td>\n",
              "      <td>5572</td>\n",
              "      <td>2.0</td>\n",
              "      <td>10730.000000</td>\n",
              "      <td>1532.857178</td>\n",
              "      <td>9.0</td>\n",
              "      <td>1.285714</td>\n",
              "      <td>7.0</td>\n",
              "    </tr>\n",
              "    <tr>\n",
              "      <th>1</th>\n",
              "      <td>0</td>\n",
              "      <td>2</td>\n",
              "      <td>5643</td>\n",
              "      <td>2.0</td>\n",
              "      <td>4775.209961</td>\n",
              "      <td>2387.604980</td>\n",
              "      <td>0.0</td>\n",
              "      <td>0.000000</td>\n",
              "      <td>2.0</td>\n",
              "    </tr>\n",
              "    <tr>\n",
              "      <th>2</th>\n",
              "      <td>0</td>\n",
              "      <td>2</td>\n",
              "      <td>5583</td>\n",
              "      <td>5.0</td>\n",
              "      <td>1188.300049</td>\n",
              "      <td>594.150024</td>\n",
              "      <td>2.0</td>\n",
              "      <td>1.000000</td>\n",
              "      <td>2.0</td>\n",
              "    </tr>\n",
              "    <tr>\n",
              "      <th>3</th>\n",
              "      <td>0</td>\n",
              "      <td>2</td>\n",
              "      <td>7893</td>\n",
              "      <td>6.0</td>\n",
              "      <td>5970.000000</td>\n",
              "      <td>1990.000000</td>\n",
              "      <td>3.0</td>\n",
              "      <td>1.000000</td>\n",
              "      <td>3.0</td>\n",
              "    </tr>\n",
              "    <tr>\n",
              "      <th>4</th>\n",
              "      <td>0</td>\n",
              "      <td>2</td>\n",
              "      <td>7894</td>\n",
              "      <td>6.0</td>\n",
              "      <td>1490.000000</td>\n",
              "      <td>1490.000000</td>\n",
              "      <td>1.0</td>\n",
              "      <td>1.000000</td>\n",
              "      <td>1.0</td>\n",
              "    </tr>\n",
              "    <tr>\n",
              "      <th>...</th>\n",
              "      <td>...</td>\n",
              "      <td>...</td>\n",
              "      <td>...</td>\n",
              "      <td>...</td>\n",
              "      <td>...</td>\n",
              "      <td>...</td>\n",
              "      <td>...</td>\n",
              "      <td>...</td>\n",
              "      <td>...</td>\n",
              "    </tr>\n",
              "    <tr>\n",
              "      <th>6734443</th>\n",
              "      <td>33</td>\n",
              "      <td>36</td>\n",
              "      <td>9103</td>\n",
              "      <td>0.0</td>\n",
              "      <td>0.000000</td>\n",
              "      <td>0.000000</td>\n",
              "      <td>0.0</td>\n",
              "      <td>0.000000</td>\n",
              "      <td>0.0</td>\n",
              "    </tr>\n",
              "    <tr>\n",
              "      <th>6734444</th>\n",
              "      <td>33</td>\n",
              "      <td>36</td>\n",
              "      <td>9107</td>\n",
              "      <td>0.0</td>\n",
              "      <td>0.000000</td>\n",
              "      <td>0.000000</td>\n",
              "      <td>0.0</td>\n",
              "      <td>0.000000</td>\n",
              "      <td>0.0</td>\n",
              "    </tr>\n",
              "    <tr>\n",
              "      <th>6734445</th>\n",
              "      <td>33</td>\n",
              "      <td>36</td>\n",
              "      <td>5704</td>\n",
              "      <td>0.0</td>\n",
              "      <td>0.000000</td>\n",
              "      <td>0.000000</td>\n",
              "      <td>0.0</td>\n",
              "      <td>0.000000</td>\n",
              "      <td>0.0</td>\n",
              "    </tr>\n",
              "    <tr>\n",
              "      <th>6734446</th>\n",
              "      <td>33</td>\n",
              "      <td>36</td>\n",
              "      <td>12733</td>\n",
              "      <td>0.0</td>\n",
              "      <td>0.000000</td>\n",
              "      <td>0.000000</td>\n",
              "      <td>0.0</td>\n",
              "      <td>0.000000</td>\n",
              "      <td>0.0</td>\n",
              "    </tr>\n",
              "    <tr>\n",
              "      <th>6734447</th>\n",
              "      <td>33</td>\n",
              "      <td>36</td>\n",
              "      <td>15925</td>\n",
              "      <td>0.0</td>\n",
              "      <td>0.000000</td>\n",
              "      <td>0.000000</td>\n",
              "      <td>0.0</td>\n",
              "      <td>0.000000</td>\n",
              "      <td>0.0</td>\n",
              "    </tr>\n",
              "  </tbody>\n",
              "</table>\n",
              "<p>6734448 rows × 9 columns</p>\n",
              "</div>"
            ],
            "text/plain": [
              "         date_block_num  shop_id  ...  mean_item_cnt  transactions\n",
              "0                     0        2  ...       1.285714           7.0\n",
              "1                     0        2  ...       0.000000           2.0\n",
              "2                     0        2  ...       1.000000           2.0\n",
              "3                     0        2  ...       1.000000           3.0\n",
              "4                     0        2  ...       1.000000           1.0\n",
              "...                 ...      ...  ...            ...           ...\n",
              "6734443              33       36  ...       0.000000           0.0\n",
              "6734444              33       36  ...       0.000000           0.0\n",
              "6734445              33       36  ...       0.000000           0.0\n",
              "6734446              33       36  ...       0.000000           0.0\n",
              "6734447              33       36  ...       0.000000           0.0\n",
              "\n",
              "[6734448 rows x 9 columns]"
            ]
          },
          "metadata": {
            "tags": []
          },
          "execution_count": 15
        }
      ]
    },
    {
      "cell_type": "code",
      "metadata": {
        "id": "HDUnjigfpvBH",
        "colab_type": "code",
        "colab": {
          "base_uri": "https://localhost:8080/",
          "height": 316
        },
        "outputId": "28a67c5f-13fe-45b5-97be-97b4b52c64ee"
      },
      "source": [
        "train_monthly.describe().T"
      ],
      "execution_count": null,
      "outputs": [
        {
          "output_type": "execute_result",
          "data": {
            "text/html": [
              "<div>\n",
              "<style scoped>\n",
              "    .dataframe tbody tr th:only-of-type {\n",
              "        vertical-align: middle;\n",
              "    }\n",
              "\n",
              "    .dataframe tbody tr th {\n",
              "        vertical-align: top;\n",
              "    }\n",
              "\n",
              "    .dataframe thead th {\n",
              "        text-align: right;\n",
              "    }\n",
              "</style>\n",
              "<table border=\"1\" class=\"dataframe\">\n",
              "  <thead>\n",
              "    <tr style=\"text-align: right;\">\n",
              "      <th></th>\n",
              "      <th>count</th>\n",
              "      <th>mean</th>\n",
              "      <th>std</th>\n",
              "      <th>min</th>\n",
              "      <th>25%</th>\n",
              "      <th>50%</th>\n",
              "      <th>75%</th>\n",
              "      <th>max</th>\n",
              "    </tr>\n",
              "  </thead>\n",
              "  <tbody>\n",
              "    <tr>\n",
              "      <th>date_block_num</th>\n",
              "      <td>6734448.0</td>\n",
              "      <td>16.500000</td>\n",
              "      <td>9.810709</td>\n",
              "      <td>0.0</td>\n",
              "      <td>8.00</td>\n",
              "      <td>16.5</td>\n",
              "      <td>25.00</td>\n",
              "      <td>33.00000</td>\n",
              "    </tr>\n",
              "    <tr>\n",
              "      <th>shop_id</th>\n",
              "      <td>6734448.0</td>\n",
              "      <td>31.642857</td>\n",
              "      <td>17.561894</td>\n",
              "      <td>2.0</td>\n",
              "      <td>16.00</td>\n",
              "      <td>34.5</td>\n",
              "      <td>47.00</td>\n",
              "      <td>59.00000</td>\n",
              "    </tr>\n",
              "    <tr>\n",
              "      <th>item_id</th>\n",
              "      <td>6734448.0</td>\n",
              "      <td>11041.890161</td>\n",
              "      <td>6210.744436</td>\n",
              "      <td>30.0</td>\n",
              "      <td>5385.25</td>\n",
              "      <td>11265.5</td>\n",
              "      <td>16068.25</td>\n",
              "      <td>22167.00000</td>\n",
              "    </tr>\n",
              "    <tr>\n",
              "      <th>item_category_id</th>\n",
              "      <td>6734448.0</td>\n",
              "      <td>3.786271</td>\n",
              "      <td>13.212956</td>\n",
              "      <td>0.0</td>\n",
              "      <td>0.00</td>\n",
              "      <td>0.0</td>\n",
              "      <td>0.00</td>\n",
              "      <td>83.00000</td>\n",
              "    </tr>\n",
              "    <tr>\n",
              "      <th>item_price</th>\n",
              "      <td>6734448.0</td>\n",
              "      <td>187.352417</td>\n",
              "      <td>2171.796631</td>\n",
              "      <td>0.0</td>\n",
              "      <td>0.00</td>\n",
              "      <td>0.0</td>\n",
              "      <td>0.00</td>\n",
              "      <td>515573.59375</td>\n",
              "    </tr>\n",
              "    <tr>\n",
              "      <th>mean_item_price</th>\n",
              "      <td>6734448.0</td>\n",
              "      <td>81.128105</td>\n",
              "      <td>531.164551</td>\n",
              "      <td>0.0</td>\n",
              "      <td>0.00</td>\n",
              "      <td>0.0</td>\n",
              "      <td>0.00</td>\n",
              "      <td>42990.00000</td>\n",
              "    </tr>\n",
              "    <tr>\n",
              "      <th>item_cnt</th>\n",
              "      <td>6734448.0</td>\n",
              "      <td>0.240223</td>\n",
              "      <td>3.456640</td>\n",
              "      <td>-4.0</td>\n",
              "      <td>0.00</td>\n",
              "      <td>0.0</td>\n",
              "      <td>0.00</td>\n",
              "      <td>2253.00000</td>\n",
              "    </tr>\n",
              "    <tr>\n",
              "      <th>mean_item_cnt</th>\n",
              "      <td>6734448.0</td>\n",
              "      <td>0.097299</td>\n",
              "      <td>0.612203</td>\n",
              "      <td>-2.0</td>\n",
              "      <td>0.00</td>\n",
              "      <td>0.0</td>\n",
              "      <td>0.00</td>\n",
              "      <td>1000.00000</td>\n",
              "    </tr>\n",
              "    <tr>\n",
              "      <th>transactions</th>\n",
              "      <td>6734448.0</td>\n",
              "      <td>0.181817</td>\n",
              "      <td>0.904735</td>\n",
              "      <td>0.0</td>\n",
              "      <td>0.00</td>\n",
              "      <td>0.0</td>\n",
              "      <td>0.00</td>\n",
              "      <td>31.00000</td>\n",
              "    </tr>\n",
              "  </tbody>\n",
              "</table>\n",
              "</div>"
            ],
            "text/plain": [
              "                      count          mean  ...       75%           max\n",
              "date_block_num    6734448.0     16.500000  ...     25.00      33.00000\n",
              "shop_id           6734448.0     31.642857  ...     47.00      59.00000\n",
              "item_id           6734448.0  11041.890161  ...  16068.25   22167.00000\n",
              "item_category_id  6734448.0      3.786271  ...      0.00      83.00000\n",
              "item_price        6734448.0    187.352417  ...      0.00  515573.59375\n",
              "mean_item_price   6734448.0     81.128105  ...      0.00   42990.00000\n",
              "item_cnt          6734448.0      0.240223  ...      0.00    2253.00000\n",
              "mean_item_cnt     6734448.0      0.097299  ...      0.00    1000.00000\n",
              "transactions      6734448.0      0.181817  ...      0.00      31.00000\n",
              "\n",
              "[9 rows x 8 columns]"
            ]
          },
          "metadata": {
            "tags": []
          },
          "execution_count": 16
        }
      ]
    },
    {
      "cell_type": "code",
      "metadata": {
        "id": "jWr0OIyxqHVU",
        "colab_type": "code",
        "colab": {}
      },
      "source": [
        "# Extract time based features.\n",
        "train_monthly['year'] = train_monthly['date_block_num'].apply(lambda x: ((x//12) + 2013))\n",
        "train_monthly['month'] = train_monthly['date_block_num'].apply(lambda x: (x % 12))"
      ],
      "execution_count": null,
      "outputs": []
    },
    {
      "cell_type": "code",
      "metadata": {
        "id": "nY6v7fBkqXQ2",
        "colab_type": "code",
        "colab": {}
      },
      "source": [
        "# Grouping data for EDA.\n",
        "gp_month_mean = train_monthly.groupby(['month'], as_index=False)['item_cnt'].mean()\n",
        "gp_month_sum = train_monthly.groupby(['month'], as_index=False)['item_cnt'].sum()\n",
        "gp_category_mean = train_monthly.groupby(['item_category_id'], as_index=False)['item_cnt'].mean()\n",
        "gp_category_sum = train_monthly.groupby(['item_category_id'], as_index=False)['item_cnt'].sum()\n",
        "gp_shop_mean = train_monthly.groupby(['shop_id'], as_index=False)['item_cnt'].mean()\n",
        "gp_shop_sum = train_monthly.groupby(['shop_id'], as_index=False)['item_cnt'].sum()"
      ],
      "execution_count": null,
      "outputs": []
    },
    {
      "cell_type": "code",
      "metadata": {
        "id": "4nBzslEcqfjg",
        "colab_type": "code",
        "colab": {
          "base_uri": "https://localhost:8080/",
          "height": 627
        },
        "outputId": "a805f27e-7a57-4c49-94ec-240115d12996"
      },
      "source": [
        "f, axes = plt.subplots(2, 1, figsize=(22, 10), sharex=True)\n",
        "sns.lineplot(x=\"month\", y=\"item_cnt\", data=gp_month_mean, ax=axes[0]).set_title(\"Monthly mean\")\n",
        "sns.lineplot(x=\"month\", y=\"item_cnt\", data=gp_month_sum, ax=axes[1]).set_title(\"Monthly sum\")\n",
        "plt.show()"
      ],
      "execution_count": null,
      "outputs": [
        {
          "output_type": "display_data",
          "data": {
            "image/png": "[encoded data removed]",
            "text/plain": [
              "<Figure size 1584x720 with 2 Axes>"
            ]
          },
          "metadata": {
            "tags": [],
            "needs_background": "light"
          }
        }
      ]
    },
    {
      "cell_type": "code",
      "metadata": {
        "id": "ptOL6DFPqpwO",
        "colab_type": "code",
        "colab": {
          "base_uri": "https://localhost:8080/",
          "height": 627
        },
        "outputId": "ab7f082f-5686-49f5-a6cb-b896c38e2a74"
      },
      "source": [
        "f, axes = plt.subplots(2, 1, figsize=(22, 10), sharex=True)\n",
        "sns.barplot(x=\"item_category_id\", y=\"item_cnt\", data=gp_category_mean, ax=axes[0], palette=\"rocket\").set_title(\"Monthly mean\")\n",
        "sns.barplot(x=\"item_category_id\", y=\"item_cnt\", data=gp_category_sum, ax=axes[1], palette=\"rocket\").set_title(\"Monthly sum\")\n",
        "plt.show()"
      ],
      "execution_count": null,
      "outputs": [
        {
          "output_type": "display_data",
          "data": {
            "image/png": "[encoded data removed]",
            "text/plain": [
              "<Figure size 1584x720 with 2 Axes>"
            ]
          },
          "metadata": {
            "tags": [],
            "needs_background": "light"
          }
        }
      ]
    },
    {
      "cell_type": "code",
      "metadata": {
        "id": "_ZoIVqEfq-iv",
        "colab_type": "code",
        "colab": {
          "base_uri": "https://localhost:8080/",
          "height": 627
        },
        "outputId": "8d17f850-32d7-449b-b4fa-7f0d2782b967"
      },
      "source": [
        "f, axes = plt.subplots(2, 1, figsize=(22, 10), sharex=True)\n",
        "sns.barplot(x=\"shop_id\", y=\"item_cnt\", data=gp_shop_mean, ax=axes[0], palette=\"rocket\").set_title(\"Monthly mean\")\n",
        "sns.barplot(x=\"shop_id\", y=\"item_cnt\", data=gp_shop_sum, ax=axes[1], palette=\"rocket\").set_title(\"Monthly sum\")\n",
        "plt.show()"
      ],
      "execution_count": null,
      "outputs": [
        {
          "output_type": "display_data",
          "data": {
            "image/png": "[encoded data removed]",
            "text/plain": [
              "<Figure size 1584x720 with 2 Axes>"
            ]
          },
          "metadata": {
            "tags": [],
            "needs_background": "light"
          }
        }
      ]
    },
    {
      "cell_type": "code",
      "metadata": {
        "id": "B8REA49krGok",
        "colab_type": "code",
        "colab": {
          "base_uri": "https://localhost:8080/",
          "height": 596
        },
        "outputId": "cec4033a-d0c4-48e5-91cb-563a578bf43a"
      },
      "source": [
        "sns.jointplot(x=\"item_cnt\", y=\"item_price\", data=train_monthly, height=8)\n",
        "plt.show()"
      ],
      "execution_count": null,
      "outputs": [
        {
          "output_type": "display_data",
          "data": {
            "image/png": "[encoded data removed]",
            "text/plain": [
              "<Figure size 576x576 with 3 Axes>"
            ]
          },
          "metadata": {
            "tags": [],
            "needs_background": "light"
          }
        }
      ]
    },
    {
      "cell_type": "code",
      "metadata": {
        "id": "6aEHfzKyrRoy",
        "colab_type": "code",
        "colab": {
          "base_uri": "https://localhost:8080/",
          "height": 596
        },
        "outputId": "9801a0a3-29ab-4259-8bae-a4be36a0ea1e"
      },
      "source": [
        "sns.jointplot(x=\"item_cnt\", y=\"transactions\", data=train_monthly, height=8)\n",
        "plt.show()"
      ],
      "execution_count": null,
      "outputs": [
        {
          "output_type": "display_data",
          "data": {
            "image/png": "[encoded data removed]",
            "text/plain": [
              "<Figure size 576x576 with 3 Axes>"
            ]
          },
          "metadata": {
            "tags": [],
            "needs_background": "light"
          }
        }
      ]
    },
    {
      "cell_type": "code",
      "metadata": {
        "id": "XP-vdrjVraca",
        "colab_type": "code",
        "colab": {
          "base_uri": "https://localhost:8080/",
          "height": 502
        },
        "outputId": "414d14ec-29c4-4761-ec07-db8193b63899"
      },
      "source": [
        "plt.subplots(figsize=(22, 8))\n",
        "sns.boxplot(train_monthly['item_cnt'])\n",
        "plt.show()"
      ],
      "execution_count": null,
      "outputs": [
        {
          "output_type": "display_data",
          "data": {
            "image/png": "[encoded data removed]",
            "text/plain": [
              "<Figure size 1584x576 with 1 Axes>"
            ]
          },
          "metadata": {
            "tags": [],
            "needs_background": "light"
          }
        }
      ]
    },
    {
      "cell_type": "code",
      "metadata": {
        "id": "6sBEsdIZsA0H",
        "colab_type": "code",
        "colab": {}
      },
      "source": [
        "train_monthly = train_monthly.query('item_cnt >= 0 and item_cnt <= 20 and item_price < 400000')"
      ],
      "execution_count": null,
      "outputs": []
    },
    {
      "cell_type": "code",
      "metadata": {
        "id": "OU-VaFo5sWbu",
        "colab_type": "code",
        "colab": {}
      },
      "source": [
        "train_monthly['item_cnt_month'] = train_monthly.sort_values('date_block_num').groupby(['shop_id', 'item_id'])['item_cnt'].shift(-1)"
      ],
      "execution_count": null,
      "outputs": []
    },
    {
      "cell_type": "code",
      "metadata": {
        "id": "p6FK3DaOvmWU",
        "colab_type": "code",
        "colab": {
          "base_uri": "https://localhost:8080/",
          "height": 405
        },
        "outputId": "3284f158-da93-4e2f-b272-358cafafab12"
      },
      "source": [
        "train_monthly"
      ],
      "execution_count": null,
      "outputs": [
        {
          "output_type": "execute_result",
          "data": {
            "text/html": [
              "<div>\n",
              "<style scoped>\n",
              "    .dataframe tbody tr th:only-of-type {\n",
              "        vertical-align: middle;\n",
              "    }\n",
              "\n",
              "    .dataframe tbody tr th {\n",
              "        vertical-align: top;\n",
              "    }\n",
              "\n",
              "    .dataframe thead th {\n",
              "        text-align: right;\n",
              "    }\n",
              "</style>\n",
              "<table border=\"1\" class=\"dataframe\">\n",
              "  <thead>\n",
              "    <tr style=\"text-align: right;\">\n",
              "      <th></th>\n",
              "      <th>date_block_num</th>\n",
              "      <th>shop_id</th>\n",
              "      <th>item_id</th>\n",
              "      <th>item_category_id</th>\n",
              "      <th>item_price</th>\n",
              "      <th>mean_item_price</th>\n",
              "      <th>item_cnt</th>\n",
              "      <th>mean_item_cnt</th>\n",
              "      <th>transactions</th>\n",
              "      <th>year</th>\n",
              "      <th>month</th>\n",
              "      <th>item_cnt_month</th>\n",
              "    </tr>\n",
              "  </thead>\n",
              "  <tbody>\n",
              "    <tr>\n",
              "      <th>0</th>\n",
              "      <td>0</td>\n",
              "      <td>2</td>\n",
              "      <td>5572</td>\n",
              "      <td>2.0</td>\n",
              "      <td>10730.000000</td>\n",
              "      <td>1532.857178</td>\n",
              "      <td>9.0</td>\n",
              "      <td>1.285714</td>\n",
              "      <td>7.0</td>\n",
              "      <td>2013</td>\n",
              "      <td>0</td>\n",
              "      <td>1.0</td>\n",
              "    </tr>\n",
              "    <tr>\n",
              "      <th>1</th>\n",
              "      <td>0</td>\n",
              "      <td>2</td>\n",
              "      <td>5643</td>\n",
              "      <td>2.0</td>\n",
              "      <td>4775.209961</td>\n",
              "      <td>2387.604980</td>\n",
              "      <td>0.0</td>\n",
              "      <td>0.000000</td>\n",
              "      <td>2.0</td>\n",
              "      <td>2013</td>\n",
              "      <td>0</td>\n",
              "      <td>0.0</td>\n",
              "    </tr>\n",
              "    <tr>\n",
              "      <th>2</th>\n",
              "      <td>0</td>\n",
              "      <td>2</td>\n",
              "      <td>5583</td>\n",
              "      <td>5.0</td>\n",
              "      <td>1188.300049</td>\n",
              "      <td>594.150024</td>\n",
              "      <td>2.0</td>\n",
              "      <td>1.000000</td>\n",
              "      <td>2.0</td>\n",
              "      <td>2013</td>\n",
              "      <td>0</td>\n",
              "      <td>1.0</td>\n",
              "    </tr>\n",
              "    <tr>\n",
              "      <th>3</th>\n",
              "      <td>0</td>\n",
              "      <td>2</td>\n",
              "      <td>7893</td>\n",
              "      <td>6.0</td>\n",
              "      <td>5970.000000</td>\n",
              "      <td>1990.000000</td>\n",
              "      <td>3.0</td>\n",
              "      <td>1.000000</td>\n",
              "      <td>3.0</td>\n",
              "      <td>2013</td>\n",
              "      <td>0</td>\n",
              "      <td>2.0</td>\n",
              "    </tr>\n",
              "    <tr>\n",
              "      <th>4</th>\n",
              "      <td>0</td>\n",
              "      <td>2</td>\n",
              "      <td>7894</td>\n",
              "      <td>6.0</td>\n",
              "      <td>1490.000000</td>\n",
              "      <td>1490.000000</td>\n",
              "      <td>1.0</td>\n",
              "      <td>1.000000</td>\n",
              "      <td>1.0</td>\n",
              "      <td>2013</td>\n",
              "      <td>0</td>\n",
              "      <td>2.0</td>\n",
              "    </tr>\n",
              "    <tr>\n",
              "      <th>...</th>\n",
              "      <td>...</td>\n",
              "      <td>...</td>\n",
              "      <td>...</td>\n",
              "      <td>...</td>\n",
              "      <td>...</td>\n",
              "      <td>...</td>\n",
              "      <td>...</td>\n",
              "      <td>...</td>\n",
              "      <td>...</td>\n",
              "      <td>...</td>\n",
              "      <td>...</td>\n",
              "      <td>...</td>\n",
              "    </tr>\n",
              "    <tr>\n",
              "      <th>6734443</th>\n",
              "      <td>33</td>\n",
              "      <td>36</td>\n",
              "      <td>9103</td>\n",
              "      <td>0.0</td>\n",
              "      <td>0.000000</td>\n",
              "      <td>0.000000</td>\n",
              "      <td>0.0</td>\n",
              "      <td>0.000000</td>\n",
              "      <td>0.0</td>\n",
              "      <td>2015</td>\n",
              "      <td>9</td>\n",
              "      <td>NaN</td>\n",
              "    </tr>\n",
              "    <tr>\n",
              "      <th>6734444</th>\n",
              "      <td>33</td>\n",
              "      <td>36</td>\n",
              "      <td>9107</td>\n",
              "      <td>0.0</td>\n",
              "      <td>0.000000</td>\n",
              "      <td>0.000000</td>\n",
              "      <td>0.0</td>\n",
              "      <td>0.000000</td>\n",
              "      <td>0.0</td>\n",
              "      <td>2015</td>\n",
              "      <td>9</td>\n",
              "      <td>NaN</td>\n",
              "    </tr>\n",
              "    <tr>\n",
              "      <th>6734445</th>\n",
              "      <td>33</td>\n",
              "      <td>36</td>\n",
              "      <td>5704</td>\n",
              "      <td>0.0</td>\n",
              "      <td>0.000000</td>\n",
              "      <td>0.000000</td>\n",
              "      <td>0.0</td>\n",
              "      <td>0.000000</td>\n",
              "      <td>0.0</td>\n",
              "      <td>2015</td>\n",
              "      <td>9</td>\n",
              "      <td>NaN</td>\n",
              "    </tr>\n",
              "    <tr>\n",
              "      <th>6734446</th>\n",
              "      <td>33</td>\n",
              "      <td>36</td>\n",
              "      <td>12733</td>\n",
              "      <td>0.0</td>\n",
              "      <td>0.000000</td>\n",
              "      <td>0.000000</td>\n",
              "      <td>0.0</td>\n",
              "      <td>0.000000</td>\n",
              "      <td>0.0</td>\n",
              "      <td>2015</td>\n",
              "      <td>9</td>\n",
              "      <td>NaN</td>\n",
              "    </tr>\n",
              "    <tr>\n",
              "      <th>6734447</th>\n",
              "      <td>33</td>\n",
              "      <td>36</td>\n",
              "      <td>15925</td>\n",
              "      <td>0.0</td>\n",
              "      <td>0.000000</td>\n",
              "      <td>0.000000</td>\n",
              "      <td>0.0</td>\n",
              "      <td>0.000000</td>\n",
              "      <td>0.0</td>\n",
              "      <td>2015</td>\n",
              "      <td>9</td>\n",
              "      <td>NaN</td>\n",
              "    </tr>\n",
              "  </tbody>\n",
              "</table>\n",
              "<p>6728118 rows × 12 columns</p>\n",
              "</div>"
            ],
            "text/plain": [
              "         date_block_num  shop_id  item_id  ...  year  month  item_cnt_month\n",
              "0                     0        2     5572  ...  2013      0             1.0\n",
              "1                     0        2     5643  ...  2013      0             0.0\n",
              "2                     0        2     5583  ...  2013      0             1.0\n",
              "3                     0        2     7893  ...  2013      0             2.0\n",
              "4                     0        2     7894  ...  2013      0             2.0\n",
              "...                 ...      ...      ...  ...   ...    ...             ...\n",
              "6734443              33       36     9103  ...  2015      9             NaN\n",
              "6734444              33       36     9107  ...  2015      9             NaN\n",
              "6734445              33       36     5704  ...  2015      9             NaN\n",
              "6734446              33       36    12733  ...  2015      9             NaN\n",
              "6734447              33       36    15925  ...  2015      9             NaN\n",
              "\n",
              "[6728118 rows x 12 columns]"
            ]
          },
          "metadata": {
            "tags": []
          },
          "execution_count": 27
        }
      ]
    },
    {
      "cell_type": "code",
      "metadata": {
        "id": "odi2sHOKvnoo",
        "colab_type": "code",
        "colab": {}
      },
      "source": [
        "train_monthly['item_price_unit'] = train_monthly['item_price'] // train_monthly['item_cnt']\n",
        "train_monthly['item_price_unit'].fillna(0, inplace=True)"
      ],
      "execution_count": null,
      "outputs": []
    },
    {
      "cell_type": "code",
      "metadata": {
        "id": "6oDwSzLlv34D",
        "colab_type": "code",
        "colab": {}
      },
      "source": [
        "gp_item_price = train_monthly.sort_values('date_block_num').groupby(['item_id'], as_index=False).agg({'item_price':[np.min, np.max]})\n",
        "gp_item_price.columns = ['item_id', 'hist_min_item_price', 'hist_max_item_price']\n",
        "\n",
        "train_monthly = pd.merge(train_monthly, gp_item_price, on='item_id', how='left')"
      ],
      "execution_count": null,
      "outputs": []
    },
    {
      "cell_type": "code",
      "metadata": {
        "id": "A7gzXiALwBJr",
        "colab_type": "code",
        "colab": {}
      },
      "source": [
        "train_monthly['price_increase'] = train_monthly['item_price'] - train_monthly['hist_min_item_price']\n",
        "train_monthly['price_decrease'] = train_monthly['hist_max_item_price'] - train_monthly['item_price']"
      ],
      "execution_count": null,
      "outputs": []
    },
    {
      "cell_type": "code",
      "metadata": {
        "id": "uxkSIpjMwJqa",
        "colab_type": "code",
        "colab": {}
      },
      "source": [
        "# Min value\n",
        "f_min = lambda x: x.rolling(window=3, min_periods=1).min()\n",
        "# Max value\n",
        "f_max = lambda x: x.rolling(window=3, min_periods=1).max()\n",
        "# Mean value\n",
        "f_mean = lambda x: x.rolling(window=3, min_periods=1).mean()\n",
        "# Standard deviation\n",
        "f_std = lambda x: x.rolling(window=3, min_periods=1).std()\n",
        "\n",
        "function_list = [f_min, f_max, f_mean, f_std]\n",
        "function_name = ['min', 'max', 'mean', 'std']\n",
        "\n",
        "for i in range(len(function_list)):\n",
        "    train_monthly[('item_cnt_%s' % function_name[i])] = train_monthly.sort_values('date_block_num').groupby(['shop_id', 'item_category_id', 'item_id'])['item_cnt'].apply(function_list[i])\n",
        "\n",
        "# Fill the empty std features with 0\n",
        "train_monthly['item_cnt_std'].fillna(0, inplace=True)"
      ],
      "execution_count": null,
      "outputs": []
    },
    {
      "cell_type": "code",
      "metadata": {
        "id": "QhOak15J1qQK",
        "colab_type": "code",
        "colab": {}
      },
      "source": [
        "lag_list = [1, 2, 3]\n",
        "\n",
        "for lag in lag_list:\n",
        "    ft_name = ('item_cnt_shifted%s' % lag)\n",
        "    train_monthly[ft_name] = train_monthly.sort_values('date_block_num').groupby(['shop_id', 'item_category_id', 'item_id'])['item_cnt'].shift(lag)\n",
        "    # Fill the empty shifted features with 0\n",
        "    train_monthly[ft_name].fillna(0, inplace=True)"
      ],
      "execution_count": null,
      "outputs": []
    },
    {
      "cell_type": "code",
      "metadata": {
        "id": "pufjzw0P1zD_",
        "colab_type": "code",
        "colab": {}
      },
      "source": [
        "train_monthly['item_trend'] = train_monthly['item_cnt']\n",
        "\n",
        "for lag in lag_list:\n",
        "    ft_name = ('item_cnt_shifted%s' % lag)\n",
        "    train_monthly['item_trend'] -= train_monthly[ft_name]\n",
        "\n",
        "train_monthly['item_trend'] /= len(lag_list) + 1"
      ],
      "execution_count": null,
      "outputs": []
    },
    {
      "cell_type": "code",
      "metadata": {
        "id": "YjGUGzTw14L5",
        "colab_type": "code",
        "colab": {
          "base_uri": "https://localhost:8080/",
          "height": 102
        },
        "outputId": "6755e046-eedc-42dd-9319-b9e2d70d734c"
      },
      "source": [
        "train_set = train_monthly.query('date_block_num >= 3 and date_block_num < 28').copy()\n",
        "validation_set = train_monthly.query('date_block_num >= 28 and date_block_num < 33').copy()\n",
        "test_set = train_monthly.query('date_block_num == 33').copy()\n",
        "\n",
        "train_set.dropna(subset=['item_cnt_month'], inplace=True)\n",
        "validation_set.dropna(subset=['item_cnt_month'], inplace=True)\n",
        "\n",
        "train_set.dropna(inplace=True)\n",
        "validation_set.dropna(inplace=True)\n",
        "\n",
        "print('Train set records:', train_set.shape[0])\n",
        "print('Validation set records:', validation_set.shape[0])\n",
        "print('Test set records:', test_set.shape[0])\n",
        "\n",
        "print('Train set records: %s (%.f%% of complete data)' % (train_set.shape[0], ((train_set.shape[0]/train_monthly.shape[0])*100)))\n",
        "print('Validation set records: %s (%.f%% of complete data)' % (validation_set.shape[0], ((validation_set.shape[0]/train_monthly.shape[0])*100)))"
      ],
      "execution_count": null,
      "outputs": [
        {
          "output_type": "stream",
          "text": [
            "Train set records: 4946785\n",
            "Validation set records: 989412\n",
            "Test set records: 197879\n",
            "Train set records: 4946785 (74% of complete data)\n",
            "Validation set records: 989412 (15% of complete data)\n"
          ],
          "name": "stdout"
        }
      ]
    },
    {
      "cell_type": "code",
      "metadata": {
        "id": "OJVJThAM2tMv",
        "colab_type": "code",
        "colab": {}
      },
      "source": [
        "# Shop mean encoding.\n",
        "gp_shop_mean = train_set.groupby(['shop_id']).agg({'item_cnt_month': ['mean']})\n",
        "gp_shop_mean.columns = ['shop_mean']\n",
        "gp_shop_mean.reset_index(inplace=True)\n",
        "# Item mean encoding.\n",
        "gp_item_mean = train_set.groupby(['item_id']).agg({'item_cnt_month': ['mean']})\n",
        "gp_item_mean.columns = ['item_mean']\n",
        "gp_item_mean.reset_index(inplace=True)\n",
        "# Shop with item mean encoding.\n",
        "gp_shop_item_mean = train_set.groupby(['shop_id', 'item_id']).agg({'item_cnt_month': ['mean']})\n",
        "gp_shop_item_mean.columns = ['shop_item_mean']\n",
        "gp_shop_item_mean.reset_index(inplace=True)\n",
        "# Year mean encoding.\n",
        "gp_year_mean = train_set.groupby(['year']).agg({'item_cnt_month': ['mean']})\n",
        "gp_year_mean.columns = ['year_mean']\n",
        "gp_year_mean.reset_index(inplace=True)\n",
        "# Month mean encoding.\n",
        "gp_month_mean = train_set.groupby(['month']).agg({'item_cnt_month': ['mean']})\n",
        "gp_month_mean.columns = ['month_mean']\n",
        "gp_month_mean.reset_index(inplace=True)\n",
        "# Add meand encoding features to train set.\n",
        "train_set = pd.merge(train_set, gp_shop_mean, on=['shop_id'], how='left')\n",
        "train_set = pd.merge(train_set, gp_item_mean, on=['item_id'], how='left')\n",
        "train_set = pd.merge(train_set, gp_shop_item_mean, on=['shop_id', 'item_id'], how='left')\n",
        "train_set = pd.merge(train_set, gp_year_mean, on=['year'], how='left')\n",
        "train_set = pd.merge(train_set, gp_month_mean, on=['month'], how='left')\n",
        "# Add meand encoding features to validation set.\n",
        "validation_set = pd.merge(validation_set, gp_shop_mean, on=['shop_id'], how='left')\n",
        "validation_set = pd.merge(validation_set, gp_item_mean, on=['item_id'], how='left')\n",
        "validation_set = pd.merge(validation_set, gp_shop_item_mean, on=['shop_id', 'item_id'], how='left')\n",
        "validation_set = pd.merge(validation_set, gp_year_mean, on=['year'], how='left')\n",
        "validation_set = pd.merge(validation_set, gp_month_mean, on=['month'], how='left')\n"
      ],
      "execution_count": null,
      "outputs": []
    },
    {
      "cell_type": "code",
      "metadata": {
        "id": "OYrcDvOu3CjP",
        "colab_type": "code",
        "colab": {}
      },
      "source": [
        "# Create train and validation sets and labels. \n",
        "X_train = train_set.drop(['item_cnt_month', 'date_block_num'], axis=1)\n",
        "Y_train = train_set['item_cnt_month'].astype(int)\n",
        "X_validation = validation_set.drop(['item_cnt_month', 'date_block_num'], axis=1)\n",
        "Y_validation = validation_set['item_cnt_month'].astype(int)"
      ],
      "execution_count": null,
      "outputs": []
    },
    {
      "cell_type": "code",
      "metadata": {
        "id": "WL6VTnt43Hdl",
        "colab_type": "code",
        "colab": {}
      },
      "source": [
        "# Integer features (used by catboost model).\n",
        "int_features = ['shop_id', 'item_id', 'year', 'month']\n",
        "\n",
        "X_train[int_features] = X_train[int_features].astype('int32')\n",
        "X_validation[int_features] = X_validation[int_features].astype('int32')"
      ],
      "execution_count": null,
      "outputs": []
    },
    {
      "cell_type": "code",
      "metadata": {
        "id": "NJOWDbKB3L2l",
        "colab_type": "code",
        "colab": {}
      },
      "source": [
        "latest_records = pd.concat([train_set, validation_set]).drop_duplicates(subset=['shop_id', 'item_id'], keep='last')\n",
        "X_test = pd.merge(test, latest_records, on=['shop_id', 'item_id'], how='left', suffixes=['', '_'])\n",
        "X_test['year'] = 2015\n",
        "X_test['month'] = 9\n",
        "X_test.drop('item_cnt_month', axis=1, inplace=True)\n",
        "X_test[int_features] = X_test[int_features].astype('int32')\n",
        "X_test = X_test[X_train.columns]"
      ],
      "execution_count": null,
      "outputs": []
    },
    {
      "cell_type": "code",
      "metadata": {
        "id": "EJJzsP2b3TGM",
        "colab_type": "code",
        "colab": {}
      },
      "source": [
        "sets = [X_train, X_validation, X_test]\n",
        "\n",
        "# This was taking too long.\n",
        "# Replace missing values with the median of each item.\n",
        "for dataset in sets:\n",
        "    for item_id in dataset['item_id'].unique():\n",
        "        for column in dataset.columns:\n",
        "            item_median = dataset[(dataset['item_id'] == item_id)][column].median()\n",
        "            dataset.loc[(dataset[column].isnull()) & (dataset['item_id'] == item_id), column] = item_median\n",
        "\n",
        "# Replace missing values with the median of each shop.            \n",
        "for dataset in sets:\n",
        "    for shop_id in dataset['shop_id'].unique():\n",
        "        for column in dataset.columns:\n",
        "            shop_median = dataset[(dataset['shop_id'] == shop_id)][column].median()\n",
        "            dataset.loc[(dataset[column].isnull()) & (dataset['shop_id'] == shop_id), column] = shop_median\n",
        "            \n",
        "# Fill remaining missing values on test set with mean.\n",
        "X_test.fillna(X_test.mean(), inplace=True)"
      ],
      "execution_count": null,
      "outputs": []
    },
    {
      "cell_type": "code",
      "metadata": {
        "id": "UdPfxjw53xu6",
        "colab_type": "code",
        "colab": {}
      },
      "source": [
        "# I'm dropping \"item_category_id\", we don't have it on test set and would be a little hard to create categories for items that exist only on test set.\n",
        "X_train.drop(['item_category_id'], axis=1, inplace=True)\n",
        "X_validation.drop(['item_category_id'], axis=1, inplace=True)\n",
        "X_test.drop(['item_category_id'], axis=1, inplace=True)"
      ],
      "execution_count": null,
      "outputs": []
    },
    {
      "cell_type": "code",
      "metadata": {
        "id": "3UMskasqXp5l",
        "colab_type": "code",
        "colab": {
          "base_uri": "https://localhost:8080/",
          "height": 425
        },
        "outputId": "cf281bf5-8a84-4b02-ab5e-b269906ccf39"
      },
      "source": [
        "X_train"
      ],
      "execution_count": null,
      "outputs": [
        {
          "output_type": "execute_result",
          "data": {
            "text/html": [
              "<div>\n",
              "<style scoped>\n",
              "    .dataframe tbody tr th:only-of-type {\n",
              "        vertical-align: middle;\n",
              "    }\n",
              "\n",
              "    .dataframe tbody tr th {\n",
              "        vertical-align: top;\n",
              "    }\n",
              "\n",
              "    .dataframe thead th {\n",
              "        text-align: right;\n",
              "    }\n",
              "</style>\n",
              "<table border=\"1\" class=\"dataframe\">\n",
              "  <thead>\n",
              "    <tr style=\"text-align: right;\">\n",
              "      <th></th>\n",
              "      <th>shop_id</th>\n",
              "      <th>item_id</th>\n",
              "      <th>item_price</th>\n",
              "      <th>mean_item_price</th>\n",
              "      <th>item_cnt</th>\n",
              "      <th>mean_item_cnt</th>\n",
              "      <th>transactions</th>\n",
              "      <th>year</th>\n",
              "      <th>month</th>\n",
              "      <th>item_price_unit</th>\n",
              "      <th>hist_min_item_price</th>\n",
              "      <th>hist_max_item_price</th>\n",
              "      <th>price_increase</th>\n",
              "      <th>price_decrease</th>\n",
              "      <th>item_cnt_min</th>\n",
              "      <th>item_cnt_max</th>\n",
              "      <th>item_cnt_mean</th>\n",
              "      <th>item_cnt_std</th>\n",
              "      <th>item_cnt_shifted1</th>\n",
              "      <th>item_cnt_shifted2</th>\n",
              "      <th>item_cnt_shifted3</th>\n",
              "      <th>item_trend</th>\n",
              "      <th>shop_mean</th>\n",
              "      <th>item_mean</th>\n",
              "      <th>shop_item_mean</th>\n",
              "      <th>year_mean</th>\n",
              "      <th>month_mean</th>\n",
              "    </tr>\n",
              "  </thead>\n",
              "  <tbody>\n",
              "    <tr>\n",
              "      <th>0</th>\n",
              "      <td>2.0</td>\n",
              "      <td>5572.0</td>\n",
              "      <td>2980.0</td>\n",
              "      <td>1490.0</td>\n",
              "      <td>2.0</td>\n",
              "      <td>1.0</td>\n",
              "      <td>2.0</td>\n",
              "      <td>2013.0</td>\n",
              "      <td>3.0</td>\n",
              "      <td>1490.0</td>\n",
              "      <td>0.0</td>\n",
              "      <td>18979.5</td>\n",
              "      <td>2980.0</td>\n",
              "      <td>15999.5</td>\n",
              "      <td>1.0</td>\n",
              "      <td>2.0</td>\n",
              "      <td>1.333333</td>\n",
              "      <td>0.577350</td>\n",
              "      <td>1.0</td>\n",
              "      <td>1.0</td>\n",
              "      <td>9.0</td>\n",
              "      <td>-2.25</td>\n",
              "      <td>0.097844</td>\n",
              "      <td>1.004766</td>\n",
              "      <td>0.84</td>\n",
              "      <td>0.135041</td>\n",
              "      <td>0.15732</td>\n",
              "    </tr>\n",
              "    <tr>\n",
              "      <th>1</th>\n",
              "      <td>2.0</td>\n",
              "      <td>5643.0</td>\n",
              "      <td>0.0</td>\n",
              "      <td>0.0</td>\n",
              "      <td>0.0</td>\n",
              "      <td>0.0</td>\n",
              "      <td>0.0</td>\n",
              "      <td>2013.0</td>\n",
              "      <td>3.0</td>\n",
              "      <td>0.0</td>\n",
              "      <td>0.0</td>\n",
              "      <td>35260.0</td>\n",
              "      <td>0.0</td>\n",
              "      <td>35260.0</td>\n",
              "      <td>0.0</td>\n",
              "      <td>0.0</td>\n",
              "      <td>0.000000</td>\n",
              "      <td>0.000000</td>\n",
              "      <td>0.0</td>\n",
              "      <td>0.0</td>\n",
              "      <td>0.0</td>\n",
              "      <td>0.00</td>\n",
              "      <td>0.097844</td>\n",
              "      <td>1.818702</td>\n",
              "      <td>1.84</td>\n",
              "      <td>0.135041</td>\n",
              "      <td>0.15732</td>\n",
              "    </tr>\n",
              "    <tr>\n",
              "      <th>2</th>\n",
              "      <td>2.0</td>\n",
              "      <td>5583.0</td>\n",
              "      <td>0.0</td>\n",
              "      <td>0.0</td>\n",
              "      <td>0.0</td>\n",
              "      <td>0.0</td>\n",
              "      <td>0.0</td>\n",
              "      <td>2013.0</td>\n",
              "      <td>3.0</td>\n",
              "      <td>0.0</td>\n",
              "      <td>0.0</td>\n",
              "      <td>5592.0</td>\n",
              "      <td>0.0</td>\n",
              "      <td>5592.0</td>\n",
              "      <td>0.0</td>\n",
              "      <td>0.0</td>\n",
              "      <td>0.000000</td>\n",
              "      <td>0.000000</td>\n",
              "      <td>0.0</td>\n",
              "      <td>0.0</td>\n",
              "      <td>0.0</td>\n",
              "      <td>0.00</td>\n",
              "      <td>0.097844</td>\n",
              "      <td>0.589524</td>\n",
              "      <td>0.04</td>\n",
              "      <td>0.135041</td>\n",
              "      <td>0.15732</td>\n",
              "    </tr>\n",
              "    <tr>\n",
              "      <th>3</th>\n",
              "      <td>2.0</td>\n",
              "      <td>7893.0</td>\n",
              "      <td>9350.0</td>\n",
              "      <td>1870.0</td>\n",
              "      <td>5.0</td>\n",
              "      <td>1.0</td>\n",
              "      <td>5.0</td>\n",
              "      <td>2013.0</td>\n",
              "      <td>3.0</td>\n",
              "      <td>1870.0</td>\n",
              "      <td>0.0</td>\n",
              "      <td>27950.0</td>\n",
              "      <td>9350.0</td>\n",
              "      <td>18600.0</td>\n",
              "      <td>1.0</td>\n",
              "      <td>5.0</td>\n",
              "      <td>2.666667</td>\n",
              "      <td>2.081666</td>\n",
              "      <td>1.0</td>\n",
              "      <td>2.0</td>\n",
              "      <td>3.0</td>\n",
              "      <td>-0.25</td>\n",
              "      <td>0.097844</td>\n",
              "      <td>3.038388</td>\n",
              "      <td>3.12</td>\n",
              "      <td>0.135041</td>\n",
              "      <td>0.15732</td>\n",
              "    </tr>\n",
              "    <tr>\n",
              "      <th>4</th>\n",
              "      <td>2.0</td>\n",
              "      <td>7894.0</td>\n",
              "      <td>0.0</td>\n",
              "      <td>0.0</td>\n",
              "      <td>0.0</td>\n",
              "      <td>0.0</td>\n",
              "      <td>0.0</td>\n",
              "      <td>2013.0</td>\n",
              "      <td>3.0</td>\n",
              "      <td>0.0</td>\n",
              "      <td>0.0</td>\n",
              "      <td>25880.0</td>\n",
              "      <td>0.0</td>\n",
              "      <td>25880.0</td>\n",
              "      <td>0.0</td>\n",
              "      <td>0.0</td>\n",
              "      <td>0.000000</td>\n",
              "      <td>0.000000</td>\n",
              "      <td>0.0</td>\n",
              "      <td>0.0</td>\n",
              "      <td>0.0</td>\n",
              "      <td>0.00</td>\n",
              "      <td>0.097844</td>\n",
              "      <td>3.670837</td>\n",
              "      <td>1.68</td>\n",
              "      <td>0.135041</td>\n",
              "      <td>0.15732</td>\n",
              "    </tr>\n",
              "    <tr>\n",
              "      <th>...</th>\n",
              "      <td>...</td>\n",
              "      <td>...</td>\n",
              "      <td>...</td>\n",
              "      <td>...</td>\n",
              "      <td>...</td>\n",
              "      <td>...</td>\n",
              "      <td>...</td>\n",
              "      <td>...</td>\n",
              "      <td>...</td>\n",
              "      <td>...</td>\n",
              "      <td>...</td>\n",
              "      <td>...</td>\n",
              "      <td>...</td>\n",
              "      <td>...</td>\n",
              "      <td>...</td>\n",
              "      <td>...</td>\n",
              "      <td>...</td>\n",
              "      <td>...</td>\n",
              "      <td>...</td>\n",
              "      <td>...</td>\n",
              "      <td>...</td>\n",
              "      <td>...</td>\n",
              "      <td>...</td>\n",
              "      <td>...</td>\n",
              "      <td>...</td>\n",
              "      <td>...</td>\n",
              "      <td>...</td>\n",
              "    </tr>\n",
              "    <tr>\n",
              "      <th>4946780</th>\n",
              "      <td>36.0</td>\n",
              "      <td>9103.0</td>\n",
              "      <td>0.0</td>\n",
              "      <td>0.0</td>\n",
              "      <td>0.0</td>\n",
              "      <td>0.0</td>\n",
              "      <td>0.0</td>\n",
              "      <td>2015.0</td>\n",
              "      <td>3.0</td>\n",
              "      <td>0.0</td>\n",
              "      <td>0.0</td>\n",
              "      <td>500.0</td>\n",
              "      <td>0.0</td>\n",
              "      <td>500.0</td>\n",
              "      <td>0.0</td>\n",
              "      <td>0.0</td>\n",
              "      <td>0.000000</td>\n",
              "      <td>0.000000</td>\n",
              "      <td>0.0</td>\n",
              "      <td>0.0</td>\n",
              "      <td>0.0</td>\n",
              "      <td>0.00</td>\n",
              "      <td>0.000000</td>\n",
              "      <td>0.000000</td>\n",
              "      <td>0.00</td>\n",
              "      <td>0.224950</td>\n",
              "      <td>0.15732</td>\n",
              "    </tr>\n",
              "    <tr>\n",
              "      <th>4946781</th>\n",
              "      <td>36.0</td>\n",
              "      <td>9107.0</td>\n",
              "      <td>0.0</td>\n",
              "      <td>0.0</td>\n",
              "      <td>0.0</td>\n",
              "      <td>0.0</td>\n",
              "      <td>0.0</td>\n",
              "      <td>2015.0</td>\n",
              "      <td>3.0</td>\n",
              "      <td>0.0</td>\n",
              "      <td>0.0</td>\n",
              "      <td>300.0</td>\n",
              "      <td>0.0</td>\n",
              "      <td>300.0</td>\n",
              "      <td>0.0</td>\n",
              "      <td>0.0</td>\n",
              "      <td>0.000000</td>\n",
              "      <td>0.000000</td>\n",
              "      <td>0.0</td>\n",
              "      <td>0.0</td>\n",
              "      <td>0.0</td>\n",
              "      <td>0.00</td>\n",
              "      <td>0.000000</td>\n",
              "      <td>0.000000</td>\n",
              "      <td>0.00</td>\n",
              "      <td>0.224950</td>\n",
              "      <td>0.15732</td>\n",
              "    </tr>\n",
              "    <tr>\n",
              "      <th>4946782</th>\n",
              "      <td>36.0</td>\n",
              "      <td>5704.0</td>\n",
              "      <td>0.0</td>\n",
              "      <td>0.0</td>\n",
              "      <td>0.0</td>\n",
              "      <td>0.0</td>\n",
              "      <td>0.0</td>\n",
              "      <td>2015.0</td>\n",
              "      <td>3.0</td>\n",
              "      <td>0.0</td>\n",
              "      <td>0.0</td>\n",
              "      <td>1750.0</td>\n",
              "      <td>0.0</td>\n",
              "      <td>1750.0</td>\n",
              "      <td>0.0</td>\n",
              "      <td>0.0</td>\n",
              "      <td>0.000000</td>\n",
              "      <td>0.000000</td>\n",
              "      <td>0.0</td>\n",
              "      <td>0.0</td>\n",
              "      <td>0.0</td>\n",
              "      <td>0.00</td>\n",
              "      <td>0.000000</td>\n",
              "      <td>0.000000</td>\n",
              "      <td>0.00</td>\n",
              "      <td>0.224950</td>\n",
              "      <td>0.15732</td>\n",
              "    </tr>\n",
              "    <tr>\n",
              "      <th>4946783</th>\n",
              "      <td>36.0</td>\n",
              "      <td>12733.0</td>\n",
              "      <td>0.0</td>\n",
              "      <td>0.0</td>\n",
              "      <td>0.0</td>\n",
              "      <td>0.0</td>\n",
              "      <td>0.0</td>\n",
              "      <td>2015.0</td>\n",
              "      <td>3.0</td>\n",
              "      <td>0.0</td>\n",
              "      <td>0.0</td>\n",
              "      <td>2980.0</td>\n",
              "      <td>0.0</td>\n",
              "      <td>2980.0</td>\n",
              "      <td>0.0</td>\n",
              "      <td>0.0</td>\n",
              "      <td>0.000000</td>\n",
              "      <td>0.000000</td>\n",
              "      <td>0.0</td>\n",
              "      <td>0.0</td>\n",
              "      <td>0.0</td>\n",
              "      <td>0.00</td>\n",
              "      <td>0.000000</td>\n",
              "      <td>0.000000</td>\n",
              "      <td>0.00</td>\n",
              "      <td>0.224950</td>\n",
              "      <td>0.15732</td>\n",
              "    </tr>\n",
              "    <tr>\n",
              "      <th>4946784</th>\n",
              "      <td>36.0</td>\n",
              "      <td>15925.0</td>\n",
              "      <td>0.0</td>\n",
              "      <td>0.0</td>\n",
              "      <td>0.0</td>\n",
              "      <td>0.0</td>\n",
              "      <td>0.0</td>\n",
              "      <td>2015.0</td>\n",
              "      <td>3.0</td>\n",
              "      <td>0.0</td>\n",
              "      <td>0.0</td>\n",
              "      <td>11899.0</td>\n",
              "      <td>0.0</td>\n",
              "      <td>11899.0</td>\n",
              "      <td>0.0</td>\n",
              "      <td>0.0</td>\n",
              "      <td>0.000000</td>\n",
              "      <td>0.000000</td>\n",
              "      <td>0.0</td>\n",
              "      <td>0.0</td>\n",
              "      <td>0.0</td>\n",
              "      <td>0.00</td>\n",
              "      <td>0.000000</td>\n",
              "      <td>0.000000</td>\n",
              "      <td>0.00</td>\n",
              "      <td>0.224950</td>\n",
              "      <td>0.15732</td>\n",
              "    </tr>\n",
              "  </tbody>\n",
              "</table>\n",
              "<p>4946785 rows × 27 columns</p>\n",
              "</div>"
            ],
            "text/plain": [
              "         shop_id  item_id  item_price  ...  shop_item_mean  year_mean  month_mean\n",
              "0            2.0   5572.0      2980.0  ...            0.84   0.135041     0.15732\n",
              "1            2.0   5643.0         0.0  ...            1.84   0.135041     0.15732\n",
              "2            2.0   5583.0         0.0  ...            0.04   0.135041     0.15732\n",
              "3            2.0   7893.0      9350.0  ...            3.12   0.135041     0.15732\n",
              "4            2.0   7894.0         0.0  ...            1.68   0.135041     0.15732\n",
              "...          ...      ...         ...  ...             ...        ...         ...\n",
              "4946780     36.0   9103.0         0.0  ...            0.00   0.224950     0.15732\n",
              "4946781     36.0   9107.0         0.0  ...            0.00   0.224950     0.15732\n",
              "4946782     36.0   5704.0         0.0  ...            0.00   0.224950     0.15732\n",
              "4946783     36.0  12733.0         0.0  ...            0.00   0.224950     0.15732\n",
              "4946784     36.0  15925.0         0.0  ...            0.00   0.224950     0.15732\n",
              "\n",
              "[4946785 rows x 27 columns]"
            ]
          },
          "metadata": {
            "tags": []
          },
          "execution_count": 43
        }
      ]
    },
    {
      "cell_type": "code",
      "metadata": {
        "id": "GiX9osypYUYY",
        "colab_type": "code",
        "colab": {}
      },
      "source": [
        "Y_train"
      ],
      "execution_count": null,
      "outputs": []
    },
    {
      "cell_type": "code",
      "metadata": {
        "id": "NXkvnUpx33yW",
        "colab_type": "code",
        "colab": {
          "base_uri": "https://localhost:8080/",
          "height": 170
        },
        "outputId": "152050e0-50e9-43d5-ba45-27395baf6543"
      },
      "source": [
        "cat_features = [0, 1, 7, 8]\n",
        "\n",
        "catboost_model = CatBoostRegressor(\n",
        "    iterations=500,\n",
        "    max_ctr_complexity=4,\n",
        "    random_seed=0,\n",
        "    od_type='Iter',\n",
        "    od_wait=25,\n",
        "    verbose=50,\n",
        "    depth=4\n",
        ")\n",
        "\n",
        "catboost_model.fit(\n",
        "    X_train, Y_train,\n",
        "      eval_set=(X_validation, Y_validation)\n",
        ")"
      ],
      "execution_count": null,
      "outputs": [
        {
          "output_type": "stream",
          "text": [
            "Learning rate set to 0.354206\n",
            "0:\tlearn: 0.8169916\ttest: 0.8683736\tbest: 0.8683736 (0)\ttotal: 1.02s\tremaining: 8m 28s\n",
            "Stopped by overfitting detector  (25 iterations wait)\n",
            "\n",
            "bestTest = 0.8067838309\n",
            "bestIteration = 9\n",
            "\n",
            "Shrink model to first 10 iterations.\n"
          ],
          "name": "stdout"
        },
        {
          "output_type": "execute_result",
          "data": {
            "text/plain": [
              "<catboost.core.CatBoostRegressor at 0x7f5375b3d9e8>"
            ]
          },
          "metadata": {
            "tags": []
          },
          "execution_count": 45
        }
      ]
    },
    {
      "cell_type": "code",
      "metadata": {
        "id": "jKiW2wdQWFlp",
        "colab_type": "code",
        "colab": {}
      },
      "source": [
        "catboost_train_pred = catboost_model.predict(X_train)\n",
        "catboost_val_pred = catboost_model.predict(X_validation)\n",
        "catboost_test_pred = catboost_model.predict(X_test)"
      ],
      "execution_count": null,
      "outputs": []
    },
    {
      "cell_type": "code",
      "metadata": {
        "id": "QhvDpRNKWn_r",
        "colab_type": "code",
        "colab": {}
      },
      "source": [
        "# Use only part of features on XGBoost.\n",
        "xgb_features = ['item_cnt','item_cnt_mean', 'item_cnt_std', 'item_cnt_shifted1', \n",
        "                'item_cnt_shifted2', 'item_cnt_shifted3', 'shop_mean', \n",
        "                'shop_item_mean', 'item_trend', 'mean_item_cnt']\n",
        "xgb_train = X_train[xgb_features]\n",
        "xgb_val = X_validation[xgb_features]\n",
        "xgb_test = X_test[xgb_features]"
      ],
      "execution_count": null,
      "outputs": []
    },
    {
      "cell_type": "code",
      "metadata": {
        "id": "TXvjdJuSWtDi",
        "colab_type": "code",
        "colab": {
          "base_uri": "https://localhost:8080/",
          "height": 307
        },
        "outputId": "6ab7dca7-a030-46d2-bc0b-db9a85d3265c"
      },
      "source": [
        "xgb_model = XGBRegressor(max_depth=8, \n",
        "                         n_estimators=500, \n",
        "                         min_child_weight=1000,  \n",
        "                         colsample_bytree=0.7, \n",
        "                         subsample=0.7, \n",
        "                         eta=0.3, \n",
        "                         seed=0)\n",
        "xgb_model.fit(xgb_train, \n",
        "              Y_train, \n",
        "              eval_metric=\"rmse\", \n",
        "              eval_set=[(xgb_train, Y_train), (xgb_val, Y_validation)], \n",
        "              verbose=20, \n",
        "              early_stopping_rounds=20)"
      ],
      "execution_count": null,
      "outputs": [
        {
          "output_type": "stream",
          "text": [
            "[20:56:08] WARNING: /workspace/src/objective/regression_obj.cu:152: reg:linear is now deprecated in favor of reg:squarederror.\n",
            "[20:56:08] WARNING: /workspace/src/learner.cc:686: Tree method is automatically selected to be 'approx' for faster speed. To use old behavior (exact greedy algorithm on single machine), set tree_method to 'exact'.\n",
            "[0]\tvalidation_0-rmse:0.942842\tvalidation_1-rmse:0.92285\n",
            "Multiple eval metrics have been passed: 'validation_1-rmse' will be used for early stopping.\n",
            "\n",
            "Will train until validation_1-rmse hasn't improved in 20 rounds.\n",
            "[20]\tvalidation_0-rmse:0.684505\tvalidation_1-rmse:0.790693\n",
            "Stopping. Best iteration:\n",
            "[18]\tvalidation_0-rmse:0.687606\tvalidation_1-rmse:0.78818\n",
            "\n"
          ],
          "name": "stdout"
        },
        {
          "output_type": "execute_result",
          "data": {
            "text/plain": [
              "XGBRegressor(base_score=0.5, booster='gbtree', colsample_bylevel=1,\n",
              "             colsample_bynode=1, colsample_bytree=0.7, eta=0.3, gamma=0,\n",
              "             importance_type='gain', learning_rate=0.1, max_delta_step=0,\n",
              "             max_depth=8, min_child_weight=1000, missing=None, n_estimators=500,\n",
              "             n_jobs=1, nthread=None, objective='reg:linear', random_state=0,\n",
              "             reg_alpha=0, reg_lambda=1, scale_pos_weight=1, seed=0, silent=None,\n",
              "             subsample=0.7, verbosity=1)"
            ]
          },
          "metadata": {
            "tags": []
          },
          "execution_count": 48
        }
      ]
    },
    {
      "cell_type": "code",
      "metadata": {
        "id": "FcUgrZxdWxb8",
        "colab_type": "code",
        "colab": {}
      },
      "source": [
        "xgb_train_pred = xgb_model.predict(xgb_train)\n",
        "xgb_val_pred = xgb_model.predict(xgb_val)\n",
        "xgb_test_pred = xgb_model.predict(xgb_test)"
      ],
      "execution_count": null,
      "outputs": []
    },
    {
      "cell_type": "code",
      "metadata": {
        "id": "gDIOd2G9W3D_",
        "colab_type": "code",
        "colab": {}
      },
      "source": [
        "# Use only part of features on random forest.\n",
        "rf_features = ['shop_id', 'item_id', 'item_cnt', 'transactions', 'year',\n",
        "               'item_cnt_mean', 'item_cnt_std', 'item_cnt_shifted1', \n",
        "               'shop_mean', 'item_mean', 'item_trend', 'mean_item_cnt']\n",
        "rf_train = X_train[rf_features]\n",
        "rf_val = X_validation[rf_features]\n",
        "rf_test = X_test[rf_features]"
      ],
      "execution_count": null,
      "outputs": []
    },
    {
      "cell_type": "code",
      "metadata": {
        "id": "9xP2q9r2bMiP",
        "colab_type": "code",
        "colab": {
          "base_uri": "https://localhost:8080/",
          "height": 136
        },
        "outputId": "cf54defb-5c6b-4d40-b5bc-519c49aef6bf"
      },
      "source": [
        "rf_model = RandomForestRegressor(n_estimators=50, max_depth=7, random_state=0, n_jobs=-1)\n",
        "rf_model.fit(rf_train, Y_train)"
      ],
      "execution_count": null,
      "outputs": [
        {
          "output_type": "execute_result",
          "data": {
            "text/plain": [
              "RandomForestRegressor(bootstrap=True, ccp_alpha=0.0, criterion='mse',\n",
              "                      max_depth=7, max_features='auto', max_leaf_nodes=None,\n",
              "                      max_samples=None, min_impurity_decrease=0.0,\n",
              "                      min_impurity_split=None, min_samples_leaf=1,\n",
              "                      min_samples_split=2, min_weight_fraction_leaf=0.0,\n",
              "                      n_estimators=50, n_jobs=-1, oob_score=False,\n",
              "                      random_state=0, verbose=0, warm_start=False)"
            ]
          },
          "metadata": {
            "tags": []
          },
          "execution_count": 52
        }
      ]
    },
    {
      "cell_type": "code",
      "metadata": {
        "id": "AGQetj7yW72c",
        "colab_type": "code",
        "colab": {}
      },
      "source": [
        "rf_train_pred = rf_model.predict(rf_train)\n",
        "rf_val_pred = rf_model.predict(rf_val)\n",
        "rf_test_pred = rf_model.predict(rf_test)"
      ],
      "execution_count": null,
      "outputs": []
    },
    {
      "cell_type": "code",
      "metadata": {
        "id": "jA_SLsIsXAVx",
        "colab_type": "code",
        "colab": {}
      },
      "source": [
        "# Use only part of features on linear Regression.\n",
        "lr_features = ['item_cnt', 'item_cnt_shifted1', 'item_trend', 'mean_item_cnt', 'shop_mean']\n",
        "lr_train = X_train[lr_features]\n",
        "lr_val = X_validation[lr_features]\n",
        "lr_test = X_test[lr_features]"
      ],
      "execution_count": null,
      "outputs": []
    },
    {
      "cell_type": "code",
      "metadata": {
        "id": "tEmvmISpXEVF",
        "colab_type": "code",
        "colab": {}
      },
      "source": [
        "lr_scaler = MinMaxScaler()\n",
        "lr_scaler.fit(lr_train)\n",
        "lr_train = lr_scaler.transform(lr_train)\n",
        "lr_val = lr_scaler.transform(lr_val)\n",
        "lr_test = lr_scaler.transform(lr_test)"
      ],
      "execution_count": null,
      "outputs": []
    },
    {
      "cell_type": "code",
      "metadata": {
        "id": "AYI-Sa8zXI7q",
        "colab_type": "code",
        "colab": {
          "base_uri": "https://localhost:8080/",
          "height": 34
        },
        "outputId": "918cb38e-b420-4bb0-a51c-4bb6c1ad1b2a"
      },
      "source": [
        "lr_model = LinearRegression(n_jobs=-1)\n",
        "lr_model.fit(lr_train, Y_train)"
      ],
      "execution_count": null,
      "outputs": [
        {
          "output_type": "execute_result",
          "data": {
            "text/plain": [
              "LinearRegression(copy_X=True, fit_intercept=True, n_jobs=-1, normalize=False)"
            ]
          },
          "metadata": {
            "tags": []
          },
          "execution_count": 56
        }
      ]
    },
    {
      "cell_type": "code",
      "metadata": {
        "id": "fYihbCeJXMaf",
        "colab_type": "code",
        "colab": {}
      },
      "source": [
        "lr_train_pred = lr_model.predict(lr_train)\n",
        "lr_val_pred = lr_model.predict(lr_val)\n",
        "lr_test_pred = lr_model.predict(lr_test)"
      ],
      "execution_count": null,
      "outputs": []
    },
    {
      "cell_type": "code",
      "metadata": {
        "id": "lv6VROiYXQFH",
        "colab_type": "code",
        "colab": {}
      },
      "source": [
        "# Use only part of features on KNN.\n",
        "knn_features = ['item_cnt', 'item_cnt_mean', 'item_cnt_std', 'item_cnt_shifted1',\n",
        "                'item_cnt_shifted2', 'shop_mean', 'shop_item_mean', \n",
        "                'item_trend', 'mean_item_cnt']\n",
        "\n",
        "# Subsample train set (using the whole data was taking too long).\n",
        "X_train_sampled = X_train[:100000]\n",
        "Y_train_sampled = Y_train[:100000]\n",
        "\n",
        "knn_train = X_train_sampled[knn_features]\n",
        "knn_val = X_validation[knn_features]\n",
        "knn_test = X_test[knn_features]"
      ],
      "execution_count": null,
      "outputs": []
    },
    {
      "cell_type": "code",
      "metadata": {
        "id": "DSQJzQFpXUxY",
        "colab_type": "code",
        "colab": {}
      },
      "source": [
        "knn_scaler = MinMaxScaler()\n",
        "knn_scaler.fit(knn_train)\n",
        "knn_train = knn_scaler.transform(knn_train)\n",
        "knn_val = knn_scaler.transform(knn_val)\n",
        "knn_test = knn_scaler.transform(knn_test)"
      ],
      "execution_count": null,
      "outputs": []
    },
    {
      "cell_type": "code",
      "metadata": {
        "id": "L4DEwe7cXYfo",
        "colab_type": "code",
        "colab": {
          "base_uri": "https://localhost:8080/",
          "height": 68
        },
        "outputId": "d593e10f-ef34-443c-fa06-d65003afd70a"
      },
      "source": [
        "knn_model = KNeighborsRegressor(n_neighbors=9, leaf_size=13, n_jobs=-1)\n",
        "knn_model.fit(knn_train, Y_train_sampled)"
      ],
      "execution_count": null,
      "outputs": [
        {
          "output_type": "execute_result",
          "data": {
            "text/plain": [
              "KNeighborsRegressor(algorithm='auto', leaf_size=13, metric='minkowski',\n",
              "                    metric_params=None, n_jobs=-1, n_neighbors=9, p=2,\n",
              "                    weights='uniform')"
            ]
          },
          "metadata": {
            "tags": []
          },
          "execution_count": 60
        }
      ]
    },
    {
      "cell_type": "code",
      "metadata": {
        "id": "1-8D8d6aXcGv",
        "colab_type": "code",
        "colab": {}
      },
      "source": [
        "knn_train_pred = knn_model.predict(knn_train)\n",
        "knn_val_pred = knn_model.predict(knn_val)\n",
        "knn_test_pred = knn_model.predict(knn_test)"
      ],
      "execution_count": null,
      "outputs": []
    },
    {
      "cell_type": "code",
      "metadata": {
        "id": "C5yqLfCqXf6F",
        "colab_type": "code",
        "colab": {
          "base_uri": "https://localhost:8080/",
          "height": 645
        },
        "outputId": "cd2ed220-82cc-4b79-b84d-737ca8f61faa"
      },
      "source": [
        "# Dataset that will be the train set of the ensemble model.\n",
        "first_level = pd.DataFrame(catboost_val_pred, columns=['catboost'])\n",
        "first_level['xgbm'] = xgb_val_pred\n",
        "first_level['random_forest'] = rf_val_pred\n",
        "first_level['linear_regression'] = lr_val_pred\n",
        "first_level['knn'] = knn_val_pred\n",
        "first_level['label'] = Y_validation.values\n",
        "first_level.head(20)"
      ],
      "execution_count": null,
      "outputs": [
        {
          "output_type": "execute_result",
          "data": {
            "text/html": [
              "<div>\n",
              "<style scoped>\n",
              "    .dataframe tbody tr th:only-of-type {\n",
              "        vertical-align: middle;\n",
              "    }\n",
              "\n",
              "    .dataframe tbody tr th {\n",
              "        vertical-align: top;\n",
              "    }\n",
              "\n",
              "    .dataframe thead th {\n",
              "        text-align: right;\n",
              "    }\n",
              "</style>\n",
              "<table border=\"1\" class=\"dataframe\">\n",
              "  <thead>\n",
              "    <tr style=\"text-align: right;\">\n",
              "      <th></th>\n",
              "      <th>catboost</th>\n",
              "      <th>xgbm</th>\n",
              "      <th>random_forest</th>\n",
              "      <th>linear_regression</th>\n",
              "      <th>knn</th>\n",
              "      <th>label</th>\n",
              "    </tr>\n",
              "  </thead>\n",
              "  <tbody>\n",
              "    <tr>\n",
              "      <th>0</th>\n",
              "      <td>0.769232</td>\n",
              "      <td>0.699712</td>\n",
              "      <td>0.621826</td>\n",
              "      <td>0.598769</td>\n",
              "      <td>1.000000</td>\n",
              "      <td>0</td>\n",
              "    </tr>\n",
              "    <tr>\n",
              "      <th>1</th>\n",
              "      <td>0.873829</td>\n",
              "      <td>0.638456</td>\n",
              "      <td>0.557902</td>\n",
              "      <td>0.044736</td>\n",
              "      <td>0.777778</td>\n",
              "      <td>0</td>\n",
              "    </tr>\n",
              "    <tr>\n",
              "      <th>2</th>\n",
              "      <td>0.039220</td>\n",
              "      <td>0.103207</td>\n",
              "      <td>0.207674</td>\n",
              "      <td>0.044736</td>\n",
              "      <td>0.000000</td>\n",
              "      <td>0</td>\n",
              "    </tr>\n",
              "    <tr>\n",
              "      <th>3</th>\n",
              "      <td>1.198209</td>\n",
              "      <td>0.814267</td>\n",
              "      <td>0.947778</td>\n",
              "      <td>0.044736</td>\n",
              "      <td>0.111111</td>\n",
              "      <td>4</td>\n",
              "    </tr>\n",
              "    <tr>\n",
              "      <th>4</th>\n",
              "      <td>2.088991</td>\n",
              "      <td>1.585213</td>\n",
              "      <td>1.565252</td>\n",
              "      <td>1.455709</td>\n",
              "      <td>0.666667</td>\n",
              "      <td>1</td>\n",
              "    </tr>\n",
              "    <tr>\n",
              "      <th>5</th>\n",
              "      <td>0.722615</td>\n",
              "      <td>0.638456</td>\n",
              "      <td>0.457695</td>\n",
              "      <td>0.044736</td>\n",
              "      <td>0.111111</td>\n",
              "      <td>1</td>\n",
              "    </tr>\n",
              "    <tr>\n",
              "      <th>6</th>\n",
              "      <td>0.483697</td>\n",
              "      <td>0.434679</td>\n",
              "      <td>0.207674</td>\n",
              "      <td>0.044736</td>\n",
              "      <td>0.111111</td>\n",
              "      <td>0</td>\n",
              "    </tr>\n",
              "    <tr>\n",
              "      <th>7</th>\n",
              "      <td>0.039220</td>\n",
              "      <td>0.103207</td>\n",
              "      <td>0.059621</td>\n",
              "      <td>0.044736</td>\n",
              "      <td>0.000000</td>\n",
              "      <td>1</td>\n",
              "    </tr>\n",
              "    <tr>\n",
              "      <th>8</th>\n",
              "      <td>0.483697</td>\n",
              "      <td>0.376551</td>\n",
              "      <td>0.207674</td>\n",
              "      <td>0.044736</td>\n",
              "      <td>0.111111</td>\n",
              "      <td>0</td>\n",
              "    </tr>\n",
              "    <tr>\n",
              "      <th>9</th>\n",
              "      <td>1.639398</td>\n",
              "      <td>1.732688</td>\n",
              "      <td>1.130119</td>\n",
              "      <td>1.151160</td>\n",
              "      <td>2.888889</td>\n",
              "      <td>2</td>\n",
              "    </tr>\n",
              "    <tr>\n",
              "      <th>10</th>\n",
              "      <td>0.676924</td>\n",
              "      <td>0.527071</td>\n",
              "      <td>0.273054</td>\n",
              "      <td>0.044736</td>\n",
              "      <td>0.555556</td>\n",
              "      <td>0</td>\n",
              "    </tr>\n",
              "    <tr>\n",
              "      <th>11</th>\n",
              "      <td>0.483697</td>\n",
              "      <td>0.434679</td>\n",
              "      <td>0.408428</td>\n",
              "      <td>0.044736</td>\n",
              "      <td>0.111111</td>\n",
              "      <td>0</td>\n",
              "    </tr>\n",
              "    <tr>\n",
              "      <th>12</th>\n",
              "      <td>0.873829</td>\n",
              "      <td>0.638456</td>\n",
              "      <td>0.670721</td>\n",
              "      <td>0.044736</td>\n",
              "      <td>0.111111</td>\n",
              "      <td>0</td>\n",
              "    </tr>\n",
              "    <tr>\n",
              "      <th>13</th>\n",
              "      <td>0.753078</td>\n",
              "      <td>0.527071</td>\n",
              "      <td>0.457695</td>\n",
              "      <td>0.044736</td>\n",
              "      <td>0.333333</td>\n",
              "      <td>0</td>\n",
              "    </tr>\n",
              "    <tr>\n",
              "      <th>14</th>\n",
              "      <td>0.084680</td>\n",
              "      <td>0.125653</td>\n",
              "      <td>0.056047</td>\n",
              "      <td>0.044736</td>\n",
              "      <td>0.000000</td>\n",
              "      <td>0</td>\n",
              "    </tr>\n",
              "    <tr>\n",
              "      <th>15</th>\n",
              "      <td>0.483697</td>\n",
              "      <td>0.456833</td>\n",
              "      <td>0.284075</td>\n",
              "      <td>0.044736</td>\n",
              "      <td>0.222222</td>\n",
              "      <td>1</td>\n",
              "    </tr>\n",
              "    <tr>\n",
              "      <th>16</th>\n",
              "      <td>0.272173</td>\n",
              "      <td>0.276884</td>\n",
              "      <td>0.203541</td>\n",
              "      <td>0.044736</td>\n",
              "      <td>0.111111</td>\n",
              "      <td>0</td>\n",
              "    </tr>\n",
              "    <tr>\n",
              "      <th>17</th>\n",
              "      <td>0.753078</td>\n",
              "      <td>0.527071</td>\n",
              "      <td>0.284075</td>\n",
              "      <td>0.044736</td>\n",
              "      <td>0.111111</td>\n",
              "      <td>0</td>\n",
              "    </tr>\n",
              "    <tr>\n",
              "      <th>18</th>\n",
              "      <td>0.769232</td>\n",
              "      <td>0.569396</td>\n",
              "      <td>0.566799</td>\n",
              "      <td>0.598769</td>\n",
              "      <td>0.888889</td>\n",
              "      <td>0</td>\n",
              "    </tr>\n",
              "    <tr>\n",
              "      <th>19</th>\n",
              "      <td>0.601258</td>\n",
              "      <td>0.524920</td>\n",
              "      <td>0.597728</td>\n",
              "      <td>1.075023</td>\n",
              "      <td>0.333333</td>\n",
              "      <td>0</td>\n",
              "    </tr>\n",
              "  </tbody>\n",
              "</table>\n",
              "</div>"
            ],
            "text/plain": [
              "    catboost      xgbm  random_forest  linear_regression       knn  label\n",
              "0   0.769232  0.699712       0.621826           0.598769  1.000000      0\n",
              "1   0.873829  0.638456       0.557902           0.044736  0.777778      0\n",
              "2   0.039220  0.103207       0.207674           0.044736  0.000000      0\n",
              "3   1.198209  0.814267       0.947778           0.044736  0.111111      4\n",
              "4   2.088991  1.585213       1.565252           1.455709  0.666667      1\n",
              "5   0.722615  0.638456       0.457695           0.044736  0.111111      1\n",
              "6   0.483697  0.434679       0.207674           0.044736  0.111111      0\n",
              "7   0.039220  0.103207       0.059621           0.044736  0.000000      1\n",
              "8   0.483697  0.376551       0.207674           0.044736  0.111111      0\n",
              "9   1.639398  1.732688       1.130119           1.151160  2.888889      2\n",
              "10  0.676924  0.527071       0.273054           0.044736  0.555556      0\n",
              "11  0.483697  0.434679       0.408428           0.044736  0.111111      0\n",
              "12  0.873829  0.638456       0.670721           0.044736  0.111111      0\n",
              "13  0.753078  0.527071       0.457695           0.044736  0.333333      0\n",
              "14  0.084680  0.125653       0.056047           0.044736  0.000000      0\n",
              "15  0.483697  0.456833       0.284075           0.044736  0.222222      1\n",
              "16  0.272173  0.276884       0.203541           0.044736  0.111111      0\n",
              "17  0.753078  0.527071       0.284075           0.044736  0.111111      0\n",
              "18  0.769232  0.569396       0.566799           0.598769  0.888889      0\n",
              "19  0.601258  0.524920       0.597728           1.075023  0.333333      0"
            ]
          },
          "metadata": {
            "tags": []
          },
          "execution_count": 62
        }
      ]
    },
    {
      "cell_type": "code",
      "metadata": {
        "id": "O73CoTMeXnSO",
        "colab_type": "code",
        "colab": {
          "base_uri": "https://localhost:8080/",
          "height": 197
        },
        "outputId": "ec31a149-1f45-4388-ad0f-e96249341b5d"
      },
      "source": [
        "# Dataset that will be the test set of the ensemble model.\n",
        "first_level_test = pd.DataFrame(catboost_test_pred, columns=['catboost'])\n",
        "first_level_test['xgbm'] = xgb_test_pred\n",
        "first_level_test['random_forest'] = rf_test_pred\n",
        "first_level_test['linear_regression'] = lr_test_pred\n",
        "first_level_test['knn'] = knn_test_pred\n",
        "first_level_test.head()"
      ],
      "execution_count": null,
      "outputs": [
        {
          "output_type": "execute_result",
          "data": {
            "text/html": [
              "<div>\n",
              "<style scoped>\n",
              "    .dataframe tbody tr th:only-of-type {\n",
              "        vertical-align: middle;\n",
              "    }\n",
              "\n",
              "    .dataframe tbody tr th {\n",
              "        vertical-align: top;\n",
              "    }\n",
              "\n",
              "    .dataframe thead th {\n",
              "        text-align: right;\n",
              "    }\n",
              "</style>\n",
              "<table border=\"1\" class=\"dataframe\">\n",
              "  <thead>\n",
              "    <tr style=\"text-align: right;\">\n",
              "      <th></th>\n",
              "      <th>catboost</th>\n",
              "      <th>xgbm</th>\n",
              "      <th>random_forest</th>\n",
              "      <th>linear_regression</th>\n",
              "      <th>knn</th>\n",
              "    </tr>\n",
              "  </thead>\n",
              "  <tbody>\n",
              "    <tr>\n",
              "      <th>0</th>\n",
              "      <td>0.473184</td>\n",
              "      <td>0.412190</td>\n",
              "      <td>0.948881</td>\n",
              "      <td>0.852372</td>\n",
              "      <td>0.888889</td>\n",
              "    </tr>\n",
              "    <tr>\n",
              "      <th>1</th>\n",
              "      <td>0.039220</td>\n",
              "      <td>0.079429</td>\n",
              "      <td>0.059621</td>\n",
              "      <td>0.058080</td>\n",
              "      <td>0.000000</td>\n",
              "    </tr>\n",
              "    <tr>\n",
              "      <th>2</th>\n",
              "      <td>0.558236</td>\n",
              "      <td>0.523621</td>\n",
              "      <td>0.854483</td>\n",
              "      <td>1.793033</td>\n",
              "      <td>1.111111</td>\n",
              "    </tr>\n",
              "    <tr>\n",
              "      <th>3</th>\n",
              "      <td>0.039220</td>\n",
              "      <td>0.079429</td>\n",
              "      <td>0.000363</td>\n",
              "      <td>0.058080</td>\n",
              "      <td>0.000000</td>\n",
              "    </tr>\n",
              "    <tr>\n",
              "      <th>4</th>\n",
              "      <td>0.039220</td>\n",
              "      <td>0.079429</td>\n",
              "      <td>0.059621</td>\n",
              "      <td>0.058080</td>\n",
              "      <td>0.000000</td>\n",
              "    </tr>\n",
              "  </tbody>\n",
              "</table>\n",
              "</div>"
            ],
            "text/plain": [
              "   catboost      xgbm  random_forest  linear_regression       knn\n",
              "0  0.473184  0.412190       0.948881           0.852372  0.888889\n",
              "1  0.039220  0.079429       0.059621           0.058080  0.000000\n",
              "2  0.558236  0.523621       0.854483           1.793033  1.111111\n",
              "3  0.039220  0.079429       0.000363           0.058080  0.000000\n",
              "4  0.039220  0.079429       0.059621           0.058080  0.000000"
            ]
          },
          "metadata": {
            "tags": []
          },
          "execution_count": 63
        }
      ]
    },
    {
      "cell_type": "code",
      "metadata": {
        "id": "oxodQdxjYFnT",
        "colab_type": "code",
        "colab": {}
      },
      "source": [
        "meta_model = LinearRegression(n_jobs=-1)"
      ],
      "execution_count": null,
      "outputs": []
    },
    {
      "cell_type": "code",
      "metadata": {
        "id": "gJc5W8xaYNw7",
        "colab_type": "code",
        "colab": {
          "base_uri": "https://localhost:8080/",
          "height": 34
        },
        "outputId": "b5ffd7ce-2c40-4d55-8ef4-594b9326d207"
      },
      "source": [
        "# Drop label from dataset.\n",
        "first_level.drop('label', axis=1, inplace=True)\n",
        "meta_model.fit(first_level, Y_validation)"
      ],
      "execution_count": null,
      "outputs": [
        {
          "output_type": "execute_result",
          "data": {
            "text/plain": [
              "LinearRegression(copy_X=True, fit_intercept=True, n_jobs=-1, normalize=False)"
            ]
          },
          "metadata": {
            "tags": []
          },
          "execution_count": 65
        }
      ]
    },
    {
      "cell_type": "code",
      "metadata": {
        "id": "UWFx8OB8YTVL",
        "colab_type": "code",
        "colab": {}
      },
      "source": [
        "ensemble_pred = meta_model.predict(first_level)\n",
        "final_predictions = meta_model.predict(first_level_test)"
      ],
      "execution_count": null,
      "outputs": []
    },
    {
      "cell_type": "code",
      "metadata": {
        "id": "Bov9UXCYYZKU",
        "colab_type": "code",
        "colab": {
          "base_uri": "https://localhost:8080/",
          "height": 34
        },
        "outputId": "54e75e81-afb7-4e05-8d00-e3adfc4a6f01"
      },
      "source": [
        "print('Train rmse:', np.sqrt(mean_squared_error(ensemble_pred, Y_validation)))"
      ],
      "execution_count": null,
      "outputs": [
        {
          "output_type": "stream",
          "text": [
            "Train rmse: 0.7647244882048551\n"
          ],
          "name": "stdout"
        }
      ]
    },
    {
      "cell_type": "code",
      "metadata": {
        "id": "FpkwGLQuYrSA",
        "colab_type": "code",
        "colab": {
          "base_uri": "https://localhost:8080/",
          "height": 346
        },
        "outputId": "ac130ecf-9141-4ab2-adfe-f64b905eb526"
      },
      "source": [
        "prediction_df = pd.DataFrame(test['ID'], columns=['ID'])\n",
        "prediction_df['item_cnt_month'] = final_predictions.clip(0., 20.)\n",
        "prediction_df.to_csv('submission.csv', index=False)\n",
        "prediction_df.head(10)"
      ],
      "execution_count": null,
      "outputs": [
        {
          "output_type": "execute_result",
          "data": {
            "text/html": [
              "<div>\n",
              "<style scoped>\n",
              "    .dataframe tbody tr th:only-of-type {\n",
              "        vertical-align: middle;\n",
              "    }\n",
              "\n",
              "    .dataframe tbody tr th {\n",
              "        vertical-align: top;\n",
              "    }\n",
              "\n",
              "    .dataframe thead th {\n",
              "        text-align: right;\n",
              "    }\n",
              "</style>\n",
              "<table border=\"1\" class=\"dataframe\">\n",
              "  <thead>\n",
              "    <tr style=\"text-align: right;\">\n",
              "      <th></th>\n",
              "      <th>ID</th>\n",
              "      <th>item_cnt_month</th>\n",
              "    </tr>\n",
              "  </thead>\n",
              "  <tbody>\n",
              "    <tr>\n",
              "      <th>0</th>\n",
              "      <td>0</td>\n",
              "      <td>0.803406</td>\n",
              "    </tr>\n",
              "    <tr>\n",
              "      <th>1</th>\n",
              "      <td>1</td>\n",
              "      <td>0.081317</td>\n",
              "    </tr>\n",
              "    <tr>\n",
              "      <th>2</th>\n",
              "      <td>2</td>\n",
              "      <td>1.240223</td>\n",
              "    </tr>\n",
              "    <tr>\n",
              "      <th>3</th>\n",
              "      <td>3</td>\n",
              "      <td>0.064157</td>\n",
              "    </tr>\n",
              "    <tr>\n",
              "      <th>4</th>\n",
              "      <td>4</td>\n",
              "      <td>0.081317</td>\n",
              "    </tr>\n",
              "    <tr>\n",
              "      <th>5</th>\n",
              "      <td>5</td>\n",
              "      <td>0.948317</td>\n",
              "    </tr>\n",
              "    <tr>\n",
              "      <th>6</th>\n",
              "      <td>6</td>\n",
              "      <td>1.215269</td>\n",
              "    </tr>\n",
              "    <tr>\n",
              "      <th>7</th>\n",
              "      <td>7</td>\n",
              "      <td>0.201977</td>\n",
              "    </tr>\n",
              "    <tr>\n",
              "      <th>8</th>\n",
              "      <td>8</td>\n",
              "      <td>1.962372</td>\n",
              "    </tr>\n",
              "    <tr>\n",
              "      <th>9</th>\n",
              "      <td>9</td>\n",
              "      <td>0.064157</td>\n",
              "    </tr>\n",
              "  </tbody>\n",
              "</table>\n",
              "</div>"
            ],
            "text/plain": [
              "   ID  item_cnt_month\n",
              "0   0        0.803406\n",
              "1   1        0.081317\n",
              "2   2        1.240223\n",
              "3   3        0.064157\n",
              "4   4        0.081317\n",
              "5   5        0.948317\n",
              "6   6        1.215269\n",
              "7   7        0.201977\n",
              "8   8        1.962372\n",
              "9   9        0.064157"
            ]
          },
          "metadata": {
            "tags": []
          },
          "execution_count": 68
        }
      ]
    }
  ]
}